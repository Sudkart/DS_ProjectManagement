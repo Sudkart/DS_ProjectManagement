{
 "cells": [
  {
   "cell_type": "code",
   "execution_count": 143,
   "id": "9c7d0d68",
   "metadata": {},
   "outputs": [],
   "source": [
    "#importing necessary libraries\n",
    "import os\n",
    "import pandas as pd\n",
    "from sklearn.model_selection import train_test_split\n",
    "from tensorflow.keras.preprocessing.text import Tokenizer\n",
    "from tensorflow.keras.models import Sequential\n",
    "from tensorflow.keras.layers import Dense, Embedding, LSTM\n",
    "from tensorflow.keras.preprocessing.sequence import pad_sequences\n",
    "from wordcloud import WordCloud\n",
    "import emoji\n",
    "from nltk.corpus import stopwords\n",
    "sw=stopwords"
   ]
  },
  {
   "cell_type": "code",
   "execution_count": 144,
   "id": "ddb6c46c",
   "metadata": {},
   "outputs": [],
   "source": [
    "import pandas as pd\n",
    "import numpy as np\n",
    "import re"
   ]
  },
  {
   "cell_type": "code",
   "execution_count": 145,
   "id": "57b2d03a",
   "metadata": {},
   "outputs": [],
   "source": [
    "from sklearn.feature_extraction.text import TfidfVectorizer\n",
    "from sklearn.model_selection import train_test_split\n",
    "from sklearn.linear_model import LogisticRegression\n",
    "from sklearn.metrics import accuracy_score"
   ]
  },
  {
   "cell_type": "code",
   "execution_count": 146,
   "id": "766696fe",
   "metadata": {},
   "outputs": [
    {
     "name": "stderr",
     "output_type": "stream",
     "text": [
      "[nltk_data] Downloading collection 'popular'\n",
      "[nltk_data]    | \n",
      "[nltk_data]    | Downloading package cmudict to\n",
      "[nltk_data]    |     C:\\Users\\sssva\\AppData\\Roaming\\nltk_data...\n",
      "[nltk_data]    |   Package cmudict is already up-to-date!\n",
      "[nltk_data]    | Downloading package gazetteers to\n",
      "[nltk_data]    |     C:\\Users\\sssva\\AppData\\Roaming\\nltk_data...\n",
      "[nltk_data]    |   Package gazetteers is already up-to-date!\n",
      "[nltk_data]    | Downloading package genesis to\n",
      "[nltk_data]    |     C:\\Users\\sssva\\AppData\\Roaming\\nltk_data...\n",
      "[nltk_data]    |   Package genesis is already up-to-date!\n",
      "[nltk_data]    | Downloading package gutenberg to\n",
      "[nltk_data]    |     C:\\Users\\sssva\\AppData\\Roaming\\nltk_data...\n",
      "[nltk_data]    |   Package gutenberg is already up-to-date!\n",
      "[nltk_data]    | Downloading package inaugural to\n",
      "[nltk_data]    |     C:\\Users\\sssva\\AppData\\Roaming\\nltk_data...\n",
      "[nltk_data]    |   Package inaugural is already up-to-date!\n",
      "[nltk_data]    | Downloading package movie_reviews to\n",
      "[nltk_data]    |     C:\\Users\\sssva\\AppData\\Roaming\\nltk_data...\n",
      "[nltk_data]    |   Package movie_reviews is already up-to-date!\n",
      "[nltk_data]    | Downloading package names to\n",
      "[nltk_data]    |     C:\\Users\\sssva\\AppData\\Roaming\\nltk_data...\n",
      "[nltk_data]    |   Package names is already up-to-date!\n",
      "[nltk_data]    | Downloading package shakespeare to\n",
      "[nltk_data]    |     C:\\Users\\sssva\\AppData\\Roaming\\nltk_data...\n",
      "[nltk_data]    |   Package shakespeare is already up-to-date!\n",
      "[nltk_data]    | Downloading package stopwords to\n",
      "[nltk_data]    |     C:\\Users\\sssva\\AppData\\Roaming\\nltk_data...\n",
      "[nltk_data]    |   Package stopwords is already up-to-date!\n",
      "[nltk_data]    | Downloading package treebank to\n",
      "[nltk_data]    |     C:\\Users\\sssva\\AppData\\Roaming\\nltk_data...\n",
      "[nltk_data]    |   Package treebank is already up-to-date!\n",
      "[nltk_data]    | Downloading package twitter_samples to\n",
      "[nltk_data]    |     C:\\Users\\sssva\\AppData\\Roaming\\nltk_data...\n",
      "[nltk_data]    |   Package twitter_samples is already up-to-date!\n",
      "[nltk_data]    | Downloading package omw to\n",
      "[nltk_data]    |     C:\\Users\\sssva\\AppData\\Roaming\\nltk_data...\n",
      "[nltk_data]    |   Package omw is already up-to-date!\n",
      "[nltk_data]    | Downloading package omw-1.4 to\n",
      "[nltk_data]    |     C:\\Users\\sssva\\AppData\\Roaming\\nltk_data...\n",
      "[nltk_data]    |   Package omw-1.4 is already up-to-date!\n",
      "[nltk_data]    | Downloading package wordnet to\n",
      "[nltk_data]    |     C:\\Users\\sssva\\AppData\\Roaming\\nltk_data...\n",
      "[nltk_data]    |   Package wordnet is already up-to-date!\n",
      "[nltk_data]    | Downloading package wordnet2021 to\n",
      "[nltk_data]    |     C:\\Users\\sssva\\AppData\\Roaming\\nltk_data...\n",
      "[nltk_data]    |   Package wordnet2021 is already up-to-date!\n",
      "[nltk_data]    | Downloading package wordnet31 to\n",
      "[nltk_data]    |     C:\\Users\\sssva\\AppData\\Roaming\\nltk_data...\n",
      "[nltk_data]    |   Package wordnet31 is already up-to-date!\n",
      "[nltk_data]    | Downloading package wordnet_ic to\n",
      "[nltk_data]    |     C:\\Users\\sssva\\AppData\\Roaming\\nltk_data...\n",
      "[nltk_data]    |   Package wordnet_ic is already up-to-date!\n",
      "[nltk_data]    | Downloading package words to\n",
      "[nltk_data]    |     C:\\Users\\sssva\\AppData\\Roaming\\nltk_data...\n",
      "[nltk_data]    |   Package words is already up-to-date!\n",
      "[nltk_data]    | Downloading package maxent_ne_chunker to\n",
      "[nltk_data]    |     C:\\Users\\sssva\\AppData\\Roaming\\nltk_data...\n",
      "[nltk_data]    |   Package maxent_ne_chunker is already up-to-date!\n",
      "[nltk_data]    | Downloading package punkt to\n",
      "[nltk_data]    |     C:\\Users\\sssva\\AppData\\Roaming\\nltk_data...\n",
      "[nltk_data]    |   Package punkt is already up-to-date!\n",
      "[nltk_data]    | Downloading package snowball_data to\n",
      "[nltk_data]    |     C:\\Users\\sssva\\AppData\\Roaming\\nltk_data...\n",
      "[nltk_data]    |   Package snowball_data is already up-to-date!\n",
      "[nltk_data]    | Downloading package averaged_perceptron_tagger to\n",
      "[nltk_data]    |     C:\\Users\\sssva\\AppData\\Roaming\\nltk_data...\n",
      "[nltk_data]    |   Package averaged_perceptron_tagger is already up-\n",
      "[nltk_data]    |       to-date!\n",
      "[nltk_data]    | \n",
      "[nltk_data]  Done downloading collection popular\n"
     ]
    },
    {
     "data": {
      "text/plain": [
       "True"
      ]
     },
     "execution_count": 146,
     "metadata": {},
     "output_type": "execute_result"
    }
   ],
   "source": [
    "import nltk\n",
    "nltk.download(\"popular\")"
   ]
  },
  {
   "cell_type": "code",
   "execution_count": 147,
   "id": "2e1ecab1",
   "metadata": {},
   "outputs": [],
   "source": [
    "df=pd.read_excel('Group3-news-text-sanitized.xlsx') #reading the file"
   ]
  },
  {
   "cell_type": "code",
   "execution_count": 148,
   "id": "3adca2f9",
   "metadata": {},
   "outputs": [
    {
     "data": {
      "text/plain": [
       "10138"
      ]
     },
     "execution_count": 148,
     "metadata": {},
     "output_type": "execute_result"
    }
   ],
   "source": [
    "df = df.drop_duplicates('Tweet',keep='first') # dropping the duplicate tweets\n",
    "df['Tweet'].count()"
   ]
  },
  {
   "cell_type": "code",
   "execution_count": 149,
   "id": "7cf7cfd9",
   "metadata": {},
   "outputs": [
    {
     "data": {
      "text/html": [
       "<div>\n",
       "<style scoped>\n",
       "    .dataframe tbody tr th:only-of-type {\n",
       "        vertical-align: middle;\n",
       "    }\n",
       "\n",
       "    .dataframe tbody tr th {\n",
       "        vertical-align: top;\n",
       "    }\n",
       "\n",
       "    .dataframe thead th {\n",
       "        text-align: right;\n",
       "    }\n",
       "</style>\n",
       "<table border=\"1\" class=\"dataframe\">\n",
       "  <thead>\n",
       "    <tr style=\"text-align: right;\">\n",
       "      <th></th>\n",
       "      <th>Category</th>\n",
       "      <th>Confidence</th>\n",
       "      <th>Tweet</th>\n",
       "      <th>Cleaned_Tweet</th>\n",
       "    </tr>\n",
       "  </thead>\n",
       "  <tbody>\n",
       "    <tr>\n",
       "      <th>0</th>\n",
       "      <td>Relevant</td>\n",
       "      <td>0.3342</td>\n",
       "      <td>Drowning' - Acrylic 08.05.15 https://t.co/X17fUBQBGG</td>\n",
       "      <td>drowning  acrylic 080515</td>\n",
       "    </tr>\n",
       "    <tr>\n",
       "      <th>1</th>\n",
       "      <td>Not Relevant</td>\n",
       "      <td>0.3367</td>\n",
       "      <td>Check out more data on Upper Wabash reservoirs here on @LouisvilleUSACE site: http://t.co/hqqLQUqZmD</td>\n",
       "      <td>check out more data on upper wabash reservoirs here on  site</td>\n",
       "    </tr>\n",
       "    <tr>\n",
       "      <th>2</th>\n",
       "      <td>Relevant</td>\n",
       "      <td>0.3982</td>\n",
       "      <td>#tornado #singapore Mac and #cheese #around the world - mac cheese cookbook: http://t.co/rgAm3eQOwn Mac and Ch http://t.co/X6ZJpzB8UP</td>\n",
       "      <td>tornado singapore mac and cheese around the world  mac cheese cookbook  mac and ch</td>\n",
       "    </tr>\n",
       "    <tr>\n",
       "      <th>3</th>\n",
       "      <td>Not Relevant</td>\n",
       "      <td>0.3994</td>\n",
       "      <td>WACKOES like #MicheleBachman predict the WORLD will SOON be OBLITERATED by a burning firey INFERNO but can't accept #GlobalWarming!! HELLO!!</td>\n",
       "      <td>wackoes like michelebachman predict the world will soon be obliterated by a burning firey inferno but cant accept globalwarming hello</td>\n",
       "    </tr>\n",
       "    <tr>\n",
       "      <th>4</th>\n",
       "      <td>Relevant</td>\n",
       "      <td>0.3994</td>\n",
       "      <td>Australia's Ashes disaster - how the collapse unfolded at Trent Bridge... http://t.co/Dq3ddGvgBF\\n #cricket</td>\n",
       "      <td>australias ashes disaster  how the collapse unfolded at trent bridge \\n cricket</td>\n",
       "    </tr>\n",
       "    <tr>\n",
       "      <th>...</th>\n",
       "      <td>...</td>\n",
       "      <td>...</td>\n",
       "      <td>...</td>\n",
       "      <td>...</td>\n",
       "    </tr>\n",
       "    <tr>\n",
       "      <th>10318</th>\n",
       "      <td>Relevant</td>\n",
       "      <td>1.0000</td>\n",
       "      <td>#Sismo M 1.9 - 5km S of Volcano Hawaii: Time2015-08-06 01:04:01 UTC2015-08-05 15:04:01 -10:00 at ep... http://t.co/RTUeTdfBqb #CSismica</td>\n",
       "      <td>sismo m 19  5km s of volcano hawaii time20150806 010401 utc20150805 150401 1000 at ep  csismica</td>\n",
       "    </tr>\n",
       "    <tr>\n",
       "      <th>10319</th>\n",
       "      <td>Relevant</td>\n",
       "      <td>1.0000</td>\n",
       "      <td>Thank you to @scegnews! Our neighborhood looks like a war zone but we had power back in 4 hours!</td>\n",
       "      <td>thank you to  our neighborhood looks like a war zone but we had power back in 4 hours</td>\n",
       "    </tr>\n",
       "    <tr>\n",
       "      <th>10320</th>\n",
       "      <td>Relevant</td>\n",
       "      <td>1.0000</td>\n",
       "      <td>70 years ago today the U.S.  dropped a nuclear weapon on Japan. Here are some articles that share my opinion on that decision��_</td>\n",
       "      <td>70 years ago today the us  dropped a nuclear weapon on japan here are some articles that share my opinion on that decision_</td>\n",
       "    </tr>\n",
       "    <tr>\n",
       "      <th>10321</th>\n",
       "      <td>Relevant</td>\n",
       "      <td>1.0000</td>\n",
       "      <td>Iranian warship points weapon at U.S. helicopter official says http://t.co/SnqfHpYm3O #tcot</td>\n",
       "      <td>iranian warship points weapon at us helicopter official says  tcot</td>\n",
       "    </tr>\n",
       "    <tr>\n",
       "      <th>10322</th>\n",
       "      <td>Relevant</td>\n",
       "      <td>1.0000</td>\n",
       "      <td>BREAKING: Obama Officials GAVE Muslim Terrorist the Weapon Used in Texas Attack http://t.co/RJcaxjp4oS</td>\n",
       "      <td>breaking obama officials gave muslim terrorist the weapon used in texas attack</td>\n",
       "    </tr>\n",
       "  </tbody>\n",
       "</table>\n",
       "<p>10138 rows × 4 columns</p>\n",
       "</div>"
      ],
      "text/plain": [
       "           Category  Confidence  \\\n",
       "0      Relevant      0.3342       \n",
       "1      Not Relevant  0.3367       \n",
       "2      Relevant      0.3982       \n",
       "3      Not Relevant  0.3994       \n",
       "4      Relevant      0.3994       \n",
       "...         ...         ...       \n",
       "10318  Relevant      1.0000       \n",
       "10319  Relevant      1.0000       \n",
       "10320  Relevant      1.0000       \n",
       "10321  Relevant      1.0000       \n",
       "10322  Relevant      1.0000       \n",
       "\n",
       "                                                                                                                                              Tweet  \\\n",
       "0      Drowning' - Acrylic 08.05.15 https://t.co/X17fUBQBGG                                                                                           \n",
       "1      Check out more data on Upper Wabash reservoirs here on @LouisvilleUSACE site: http://t.co/hqqLQUqZmD                                           \n",
       "2      #tornado #singapore Mac and #cheese #around the world - mac cheese cookbook: http://t.co/rgAm3eQOwn Mac and Ch http://t.co/X6ZJpzB8UP          \n",
       "3      WACKOES like #MicheleBachman predict the WORLD will SOON be OBLITERATED by a burning firey INFERNO but can't accept #GlobalWarming!! HELLO!!   \n",
       "4      Australia's Ashes disaster - how the collapse unfolded at Trent Bridge... http://t.co/Dq3ddGvgBF\\n #cricket                                    \n",
       "...                                                                                                            ...                                    \n",
       "10318  #Sismo M 1.9 - 5km S of Volcano Hawaii: Time2015-08-06 01:04:01 UTC2015-08-05 15:04:01 -10:00 at ep... http://t.co/RTUeTdfBqb #CSismica        \n",
       "10319  Thank you to @scegnews! Our neighborhood looks like a war zone but we had power back in 4 hours!                                               \n",
       "10320  70 years ago today the U.S.  dropped a nuclear weapon on Japan. Here are some articles that share my opinion on that decision��_               \n",
       "10321  Iranian warship points weapon at U.S. helicopter official says http://t.co/SnqfHpYm3O #tcot                                                    \n",
       "10322  BREAKING: Obama Officials GAVE Muslim Terrorist the Weapon Used in Texas Attack http://t.co/RJcaxjp4oS                                         \n",
       "\n",
       "                                                                                                                               Cleaned_Tweet  \n",
       "0      drowning  acrylic 080515                                                                                                               \n",
       "1      check out more data on upper wabash reservoirs here on  site                                                                           \n",
       "2      tornado singapore mac and cheese around the world  mac cheese cookbook  mac and ch                                                     \n",
       "3      wackoes like michelebachman predict the world will soon be obliterated by a burning firey inferno but cant accept globalwarming hello  \n",
       "4      australias ashes disaster  how the collapse unfolded at trent bridge \\n cricket                                                        \n",
       "...                                                                                ...                                                        \n",
       "10318  sismo m 19  5km s of volcano hawaii time20150806 010401 utc20150805 150401 1000 at ep  csismica                                        \n",
       "10319  thank you to  our neighborhood looks like a war zone but we had power back in 4 hours                                                  \n",
       "10320  70 years ago today the us  dropped a nuclear weapon on japan here are some articles that share my opinion on that decision_            \n",
       "10321  iranian warship points weapon at us helicopter official says  tcot                                                                     \n",
       "10322  breaking obama officials gave muslim terrorist the weapon used in texas attack                                                         \n",
       "\n",
       "[10138 rows x 4 columns]"
      ]
     },
     "execution_count": 149,
     "metadata": {},
     "output_type": "execute_result"
    }
   ],
   "source": [
    "df[\"Cleaned_Tweet\"] = [re.sub(r\"(@[A-Za-z0–9_]+)|[^\\w\\s]|#|http\\S+\", \"\", v.lower()) for v in df[\"Tweet\"]] #cleaning then data\n",
    "df"
   ]
  },
  {
   "cell_type": "code",
   "execution_count": 150,
   "id": "1c6d7978",
   "metadata": {},
   "outputs": [],
   "source": [
    "# Week 13\n",
    "# Handling the text preprocessing by embedding the removal extra spaces in a sentence, Removing unwanted repeated characters from a sentence.\n",
    "def normalizepreprocessdata(data):\n",
    "    stop_words = set(stopwords.words('english'))\n",
    "    # Removing the stop wors form the data.\n",
    "    words = [word for word in data.split() if word not in stop_words]\n",
    "    # Normalize emojis\n",
    "    words = [emoji.demojize(tweet) for tweet in words]\n",
    "    # Remove unnecessary spacing and handle repeated characters\n",
    "    words = [re.sub(r'(.)\\1+', r'\\1\\1', word.strip()) for word in words]\n",
    "    words = ' '.join(words)\n",
    "    return words\n"
   ]
  },
  {
   "cell_type": "code",
   "execution_count": 151,
   "id": "185ff558",
   "metadata": {},
   "outputs": [
    {
     "data": {
      "text/html": [
       "<div>\n",
       "<style scoped>\n",
       "    .dataframe tbody tr th:only-of-type {\n",
       "        vertical-align: middle;\n",
       "    }\n",
       "\n",
       "    .dataframe tbody tr th {\n",
       "        vertical-align: top;\n",
       "    }\n",
       "\n",
       "    .dataframe thead th {\n",
       "        text-align: right;\n",
       "    }\n",
       "</style>\n",
       "<table border=\"1\" class=\"dataframe\">\n",
       "  <thead>\n",
       "    <tr style=\"text-align: right;\">\n",
       "      <th></th>\n",
       "      <th>Category</th>\n",
       "      <th>Confidence</th>\n",
       "      <th>Tweet</th>\n",
       "      <th>Cleaned_Tweet</th>\n",
       "    </tr>\n",
       "  </thead>\n",
       "  <tbody>\n",
       "    <tr>\n",
       "      <th>0</th>\n",
       "      <td>Relevant</td>\n",
       "      <td>0.3342</td>\n",
       "      <td>Drowning' - Acrylic 08.05.15 https://t.co/X17fUBQBGG</td>\n",
       "      <td>drowning acrylic 080515</td>\n",
       "    </tr>\n",
       "    <tr>\n",
       "      <th>1</th>\n",
       "      <td>Not Relevant</td>\n",
       "      <td>0.3367</td>\n",
       "      <td>Check out more data on Upper Wabash reservoirs here on @LouisvilleUSACE site: http://t.co/hqqLQUqZmD</td>\n",
       "      <td>check data upper wabash reservoirs site</td>\n",
       "    </tr>\n",
       "    <tr>\n",
       "      <th>2</th>\n",
       "      <td>Relevant</td>\n",
       "      <td>0.3982</td>\n",
       "      <td>#tornado #singapore Mac and #cheese #around the world - mac cheese cookbook: http://t.co/rgAm3eQOwn Mac and Ch http://t.co/X6ZJpzB8UP</td>\n",
       "      <td>tornado singapore mac cheese around world mac cheese cookbook mac ch</td>\n",
       "    </tr>\n",
       "    <tr>\n",
       "      <th>3</th>\n",
       "      <td>Not Relevant</td>\n",
       "      <td>0.3994</td>\n",
       "      <td>WACKOES like #MicheleBachman predict the WORLD will SOON be OBLITERATED by a burning firey INFERNO but can't accept #GlobalWarming!! HELLO!!</td>\n",
       "      <td>wackoes like michelebachman predict world soon obliterated burning firey inferno cant accept globalwarming hello</td>\n",
       "    </tr>\n",
       "    <tr>\n",
       "      <th>4</th>\n",
       "      <td>Relevant</td>\n",
       "      <td>0.3994</td>\n",
       "      <td>Australia's Ashes disaster - how the collapse unfolded at Trent Bridge... http://t.co/Dq3ddGvgBF\\n #cricket</td>\n",
       "      <td>australias ashes disaster collapse unfolded trent bridge cricket</td>\n",
       "    </tr>\n",
       "    <tr>\n",
       "      <th>...</th>\n",
       "      <td>...</td>\n",
       "      <td>...</td>\n",
       "      <td>...</td>\n",
       "      <td>...</td>\n",
       "    </tr>\n",
       "    <tr>\n",
       "      <th>10318</th>\n",
       "      <td>Relevant</td>\n",
       "      <td>1.0000</td>\n",
       "      <td>#Sismo M 1.9 - 5km S of Volcano Hawaii: Time2015-08-06 01:04:01 UTC2015-08-05 15:04:01 -10:00 at ep... http://t.co/RTUeTdfBqb #CSismica</td>\n",
       "      <td>sismo 19 5km volcano hawaii time20150806 010401 utc20150805 150401 100 ep csismica</td>\n",
       "    </tr>\n",
       "    <tr>\n",
       "      <th>10319</th>\n",
       "      <td>Relevant</td>\n",
       "      <td>1.0000</td>\n",
       "      <td>Thank you to @scegnews! Our neighborhood looks like a war zone but we had power back in 4 hours!</td>\n",
       "      <td>thank neighborhood looks like war zone power back 4 hours</td>\n",
       "    </tr>\n",
       "    <tr>\n",
       "      <th>10320</th>\n",
       "      <td>Relevant</td>\n",
       "      <td>1.0000</td>\n",
       "      <td>70 years ago today the U.S.  dropped a nuclear weapon on Japan. Here are some articles that share my opinion on that decision��_</td>\n",
       "      <td>70 years ago today us dropped nuclear weapon japan articles share opinion decision_</td>\n",
       "    </tr>\n",
       "    <tr>\n",
       "      <th>10321</th>\n",
       "      <td>Relevant</td>\n",
       "      <td>1.0000</td>\n",
       "      <td>Iranian warship points weapon at U.S. helicopter official says http://t.co/SnqfHpYm3O #tcot</td>\n",
       "      <td>iranian warship points weapon us helicopter official says tcot</td>\n",
       "    </tr>\n",
       "    <tr>\n",
       "      <th>10322</th>\n",
       "      <td>Relevant</td>\n",
       "      <td>1.0000</td>\n",
       "      <td>BREAKING: Obama Officials GAVE Muslim Terrorist the Weapon Used in Texas Attack http://t.co/RJcaxjp4oS</td>\n",
       "      <td>breaking obama officials gave muslim terrorist weapon used texas attack</td>\n",
       "    </tr>\n",
       "  </tbody>\n",
       "</table>\n",
       "<p>10138 rows × 4 columns</p>\n",
       "</div>"
      ],
      "text/plain": [
       "           Category  Confidence  \\\n",
       "0      Relevant      0.3342       \n",
       "1      Not Relevant  0.3367       \n",
       "2      Relevant      0.3982       \n",
       "3      Not Relevant  0.3994       \n",
       "4      Relevant      0.3994       \n",
       "...         ...         ...       \n",
       "10318  Relevant      1.0000       \n",
       "10319  Relevant      1.0000       \n",
       "10320  Relevant      1.0000       \n",
       "10321  Relevant      1.0000       \n",
       "10322  Relevant      1.0000       \n",
       "\n",
       "                                                                                                                                              Tweet  \\\n",
       "0      Drowning' - Acrylic 08.05.15 https://t.co/X17fUBQBGG                                                                                           \n",
       "1      Check out more data on Upper Wabash reservoirs here on @LouisvilleUSACE site: http://t.co/hqqLQUqZmD                                           \n",
       "2      #tornado #singapore Mac and #cheese #around the world - mac cheese cookbook: http://t.co/rgAm3eQOwn Mac and Ch http://t.co/X6ZJpzB8UP          \n",
       "3      WACKOES like #MicheleBachman predict the WORLD will SOON be OBLITERATED by a burning firey INFERNO but can't accept #GlobalWarming!! HELLO!!   \n",
       "4      Australia's Ashes disaster - how the collapse unfolded at Trent Bridge... http://t.co/Dq3ddGvgBF\\n #cricket                                    \n",
       "...                                                                                                            ...                                    \n",
       "10318  #Sismo M 1.9 - 5km S of Volcano Hawaii: Time2015-08-06 01:04:01 UTC2015-08-05 15:04:01 -10:00 at ep... http://t.co/RTUeTdfBqb #CSismica        \n",
       "10319  Thank you to @scegnews! Our neighborhood looks like a war zone but we had power back in 4 hours!                                               \n",
       "10320  70 years ago today the U.S.  dropped a nuclear weapon on Japan. Here are some articles that share my opinion on that decision��_               \n",
       "10321  Iranian warship points weapon at U.S. helicopter official says http://t.co/SnqfHpYm3O #tcot                                                    \n",
       "10322  BREAKING: Obama Officials GAVE Muslim Terrorist the Weapon Used in Texas Attack http://t.co/RJcaxjp4oS                                         \n",
       "\n",
       "                                                                                                          Cleaned_Tweet  \n",
       "0      drowning acrylic 080515                                                                                           \n",
       "1      check data upper wabash reservoirs site                                                                           \n",
       "2      tornado singapore mac cheese around world mac cheese cookbook mac ch                                              \n",
       "3      wackoes like michelebachman predict world soon obliterated burning firey inferno cant accept globalwarming hello  \n",
       "4      australias ashes disaster collapse unfolded trent bridge cricket                                                  \n",
       "...                                                                 ...                                                  \n",
       "10318  sismo 19 5km volcano hawaii time20150806 010401 utc20150805 150401 100 ep csismica                                \n",
       "10319  thank neighborhood looks like war zone power back 4 hours                                                         \n",
       "10320  70 years ago today us dropped nuclear weapon japan articles share opinion decision_                               \n",
       "10321  iranian warship points weapon us helicopter official says tcot                                                    \n",
       "10322  breaking obama officials gave muslim terrorist weapon used texas attack                                           \n",
       "\n",
       "[10138 rows x 4 columns]"
      ]
     },
     "execution_count": 151,
     "metadata": {},
     "output_type": "execute_result"
    }
   ],
   "source": [
    "df[\"Cleaned_Tweet\"] = df[\"Cleaned_Tweet\"].apply(normalizepreprocessdata)\n",
    "df"
   ]
  },
  {
   "cell_type": "code",
   "execution_count": 152,
   "id": "4e056743",
   "metadata": {},
   "outputs": [
    {
     "data": {
      "text/html": [
       "<div>\n",
       "<style scoped>\n",
       "    .dataframe tbody tr th:only-of-type {\n",
       "        vertical-align: middle;\n",
       "    }\n",
       "\n",
       "    .dataframe tbody tr th {\n",
       "        vertical-align: top;\n",
       "    }\n",
       "\n",
       "    .dataframe thead th {\n",
       "        text-align: right;\n",
       "    }\n",
       "</style>\n",
       "<table border=\"1\" class=\"dataframe\">\n",
       "  <thead>\n",
       "    <tr style=\"text-align: right;\">\n",
       "      <th></th>\n",
       "      <th>Category</th>\n",
       "      <th>Confidence</th>\n",
       "      <th>Cleaned_Tweet</th>\n",
       "    </tr>\n",
       "  </thead>\n",
       "  <tbody>\n",
       "    <tr>\n",
       "      <th>0</th>\n",
       "      <td>Relevant</td>\n",
       "      <td>0.3342</td>\n",
       "      <td>drowning acrylic 080515</td>\n",
       "    </tr>\n",
       "    <tr>\n",
       "      <th>1</th>\n",
       "      <td>Not Relevant</td>\n",
       "      <td>0.3367</td>\n",
       "      <td>check data upper wabash reservoirs site</td>\n",
       "    </tr>\n",
       "    <tr>\n",
       "      <th>2</th>\n",
       "      <td>Relevant</td>\n",
       "      <td>0.3982</td>\n",
       "      <td>tornado singapore mac cheese around world mac cheese cookbook mac ch</td>\n",
       "    </tr>\n",
       "    <tr>\n",
       "      <th>3</th>\n",
       "      <td>Not Relevant</td>\n",
       "      <td>0.3994</td>\n",
       "      <td>wackoes like michelebachman predict world soon obliterated burning firey inferno cant accept globalwarming hello</td>\n",
       "    </tr>\n",
       "    <tr>\n",
       "      <th>4</th>\n",
       "      <td>Relevant</td>\n",
       "      <td>0.3994</td>\n",
       "      <td>australias ashes disaster collapse unfolded trent bridge cricket</td>\n",
       "    </tr>\n",
       "    <tr>\n",
       "      <th>...</th>\n",
       "      <td>...</td>\n",
       "      <td>...</td>\n",
       "      <td>...</td>\n",
       "    </tr>\n",
       "    <tr>\n",
       "      <th>10318</th>\n",
       "      <td>Relevant</td>\n",
       "      <td>1.0000</td>\n",
       "      <td>sismo 19 5km volcano hawaii time20150806 010401 utc20150805 150401 100 ep csismica</td>\n",
       "    </tr>\n",
       "    <tr>\n",
       "      <th>10319</th>\n",
       "      <td>Relevant</td>\n",
       "      <td>1.0000</td>\n",
       "      <td>thank neighborhood looks like war zone power back 4 hours</td>\n",
       "    </tr>\n",
       "    <tr>\n",
       "      <th>10320</th>\n",
       "      <td>Relevant</td>\n",
       "      <td>1.0000</td>\n",
       "      <td>70 years ago today us dropped nuclear weapon japan articles share opinion decision_</td>\n",
       "    </tr>\n",
       "    <tr>\n",
       "      <th>10321</th>\n",
       "      <td>Relevant</td>\n",
       "      <td>1.0000</td>\n",
       "      <td>iranian warship points weapon us helicopter official says tcot</td>\n",
       "    </tr>\n",
       "    <tr>\n",
       "      <th>10322</th>\n",
       "      <td>Relevant</td>\n",
       "      <td>1.0000</td>\n",
       "      <td>breaking obama officials gave muslim terrorist weapon used texas attack</td>\n",
       "    </tr>\n",
       "  </tbody>\n",
       "</table>\n",
       "<p>10138 rows × 3 columns</p>\n",
       "</div>"
      ],
      "text/plain": [
       "           Category  Confidence  \\\n",
       "0      Relevant      0.3342       \n",
       "1      Not Relevant  0.3367       \n",
       "2      Relevant      0.3982       \n",
       "3      Not Relevant  0.3994       \n",
       "4      Relevant      0.3994       \n",
       "...         ...         ...       \n",
       "10318  Relevant      1.0000       \n",
       "10319  Relevant      1.0000       \n",
       "10320  Relevant      1.0000       \n",
       "10321  Relevant      1.0000       \n",
       "10322  Relevant      1.0000       \n",
       "\n",
       "                                                                                                          Cleaned_Tweet  \n",
       "0      drowning acrylic 080515                                                                                           \n",
       "1      check data upper wabash reservoirs site                                                                           \n",
       "2      tornado singapore mac cheese around world mac cheese cookbook mac ch                                              \n",
       "3      wackoes like michelebachman predict world soon obliterated burning firey inferno cant accept globalwarming hello  \n",
       "4      australias ashes disaster collapse unfolded trent bridge cricket                                                  \n",
       "...                                                                 ...                                                  \n",
       "10318  sismo 19 5km volcano hawaii time20150806 010401 utc20150805 150401 100 ep csismica                                \n",
       "10319  thank neighborhood looks like war zone power back 4 hours                                                         \n",
       "10320  70 years ago today us dropped nuclear weapon japan articles share opinion decision_                               \n",
       "10321  iranian warship points weapon us helicopter official says tcot                                                    \n",
       "10322  breaking obama officials gave muslim terrorist weapon used texas attack                                           \n",
       "\n",
       "[10138 rows x 3 columns]"
      ]
     },
     "execution_count": 152,
     "metadata": {},
     "output_type": "execute_result"
    }
   ],
   "source": [
    "df.drop('Tweet',axis=1) #dropping the actual column of tweets"
   ]
  },
  {
   "cell_type": "code",
   "execution_count": 153,
   "id": "892cde20",
   "metadata": {},
   "outputs": [],
   "source": [
    "vals_to_replace = {'Relevant':1, 'Not Relevant':0} # Define a dictionary to map the string values to their corresponding integer replacements\n",
    "# Use the 'map()' function to replace values in the 'Category' column of the DataFrame 'df'\n",
    "# The map() function applies the replacements specified in the 'vals_to_replace' dictionary to each element of the 'Category' column.\n",
    "df['Category'] = df['Category'].map(vals_to_replace)\n",
    "# After running this code, the 'Category' column in the DataFrame 'df' will have its string values replaced with corresponding integer values based on the 'vals_to_replace' dictionary.\n",
    "# For example, if the original 'Category' column had 'Relevant' and 'Not Relevant' as its values, they will be replaced with 1 and 0, respectively.\n",
    "# Other values in the 'Category' column will remain unchanged.\n"
   ]
  },
  {
   "cell_type": "code",
   "execution_count": 154,
   "id": "f43e0142",
   "metadata": {},
   "outputs": [],
   "source": [
    "df.dropna(inplace=True) "
   ]
  },
  {
   "cell_type": "code",
   "execution_count": 155,
   "id": "e908ae2b",
   "metadata": {},
   "outputs": [
    {
     "data": {
      "text/plain": [
       "array([1., 0.])"
      ]
     },
     "execution_count": 155,
     "metadata": {},
     "output_type": "execute_result"
    }
   ],
   "source": [
    "df['Category'].unique()"
   ]
  },
  {
   "cell_type": "code",
   "execution_count": 156,
   "id": "6ad84319",
   "metadata": {},
   "outputs": [],
   "source": [
    "# Split the DataFrame 'df' into training and testing sets for input features ('Cleaned_Tweet') and target labels ('Category')\n",
    "# test_size=0.2 specifies that 20% of the data will be used for testing, and 80% will be used for training\n",
    "# random_state=42 sets a specific seed value for the random number generator, ensuring reproducibility of the split\n",
    "# This means that every time this code is run with random_state=42, the same random split will be generated.\n",
    "X_train, X_test, y_train, y_test = train_test_split(df['Cleaned_Tweet'], df['Category'], test_size=0.2, random_state=42)\n",
    "# X_train: This contains 80% of the 'Cleaned_Tweet' data and will be used for training the model.\n",
    "# X_test: This contains the remaining 20% of the 'Cleaned_Tweet' data and will be used for evaluating the model's performance.\n",
    "# y_train: This contains the corresponding target labels (0 or 1) for the tweets in X_train and will be used during training.\n",
    "# y_test: This contains the corresponding target labels (0 or 1) for the tweets in X_test and will be used for evaluating the model's performance."
   ]
  },
  {
   "cell_type": "code",
   "execution_count": 157,
   "id": "334a7a11",
   "metadata": {},
   "outputs": [],
   "source": [
    "tokenizer = Tokenizer() #Initialize a new Tokenizer object\n",
    "tokenizer.fit_on_texts(X_train)  # Fit the Tokenizer on the training data (X_train)\n",
    "X_train_sequences = tokenizer.texts_to_sequences(X_train) # Convert the text data in X_train to sequences of integers\n",
    "X_test_sequences = tokenizer.texts_to_sequences(X_test) # Convert the text data in X_test to sequences of integers\n",
    "# X_train_sequences: This contains the training data (tweets) represented as sequences of integers, where each integer represents a unique word in the tokenizer's vocabulary.\n",
    "# X_test_sequences: This contains the testing data (tweets) represented as sequences of integers using the same tokenizer's vocabulary as X_train_sequences."
   ]
  },
  {
   "cell_type": "code",
   "execution_count": 158,
   "id": "52fceea7",
   "metadata": {},
   "outputs": [],
   "source": [
    "max_sequence_length = 100  # Define the maximum sequence length to which the sequences will be padded\n",
    "X_train_padded = pad_sequences(X_train_sequences, maxlen=max_sequence_length) # Pad the sequences in X_train_sequences to ensure they all have the same length (max_sequence_length)\n",
    "X_test_padded = pad_sequences(X_test_sequences, maxlen=max_sequence_length) # Pad the sequences in X_test_sequences to ensure they all have the same length (max_sequence_length)\n",
    "# Padding ensures that all input sequences have the same length, which is essential for efficient batch processing during model training and evaluation."
   ]
  },
  {
   "cell_type": "code",
   "execution_count": 159,
   "id": "6a9f4231",
   "metadata": {},
   "outputs": [],
   "source": [
    "from keras.layers import Dense, Activation, Flatten,Dropout #importing dense, activation, flatten and dropout layers from keras"
   ]
  },
  {
   "cell_type": "code",
   "execution_count": 160,
   "id": "2e016d42",
   "metadata": {},
   "outputs": [],
   "source": [
    "model = Sequential() # Create a sequential model\n",
    "model.add(Embedding(len(tokenizer.word_index) + 1, 32, input_length=max_sequence_length))  # Add the Embedding layer\n",
    "model.add(LSTM(64, return_sequences=True)) # Add the first LSTM layer with return_sequences=True\n",
    "model.add(LSTM(64)) # Add the second LSTM layer without returning sequences (outputting only the final LSTM state)\n",
    "model.add(Dense(1, activation='sigmoid')) # Add the final Dense layer with one neuron and a sigmoid activation function for binary classification"
   ]
  },
  {
   "cell_type": "code",
   "execution_count": 161,
   "id": "eaf37bff",
   "metadata": {},
   "outputs": [
    {
     "name": "stdout",
     "output_type": "stream",
     "text": [
      "Epoch 1/5\n",
      "254/254 [==============================] - 19s 67ms/step - loss: 0.5379 - accuracy: 0.7204 - val_loss: 0.4446 - val_accuracy: 0.8035\n",
      "Epoch 2/5\n",
      "254/254 [==============================] - 18s 71ms/step - loss: 0.3017 - accuracy: 0.8771 - val_loss: 0.4852 - val_accuracy: 0.7881\n",
      "Epoch 3/5\n",
      "254/254 [==============================] - 18s 72ms/step - loss: 0.1797 - accuracy: 0.9344 - val_loss: 0.5933 - val_accuracy: 0.7802\n",
      "Epoch 4/5\n",
      "254/254 [==============================] - 17s 67ms/step - loss: 0.1255 - accuracy: 0.9541 - val_loss: 0.7680 - val_accuracy: 0.7659\n",
      "Epoch 5/5\n",
      "254/254 [==============================] - 18s 73ms/step - loss: 0.0969 - accuracy: 0.9683 - val_loss: 0.7673 - val_accuracy: 0.7644\n"
     ]
    },
    {
     "data": {
      "text/plain": [
       "<keras.callbacks.History at 0x2ac4ca89e50>"
      ]
     },
     "execution_count": 161,
     "metadata": {},
     "output_type": "execute_result"
    }
   ],
   "source": [
    "model.compile(loss='binary_crossentropy', optimizer='adam', metrics=['accuracy'])  # Compile the model with the specified loss function, optimizer, and evaluation metrics\n",
    "# binary_crossentropy is the loss function used for binary classification tasks\n",
    "model.fit(X_train_padded, y_train, validation_data=(X_test_padded, y_test), epochs=5, batch_size=32)  # Train the model on the training data (X_train_padded) and corresponding labels (y_train)\n",
    "# epochs=5 specifies the number of times the model will iterate over the entire training dataset during training.\n",
    "# batch_size=32 specifies the number of samples per gradient update. The model's weights are updated after processing each batch."
   ]
  },
  {
   "cell_type": "code",
   "execution_count": 162,
   "id": "a24263d9",
   "metadata": {},
   "outputs": [],
   "source": [
    "from sklearn.metrics import roc_auc_score, roc_curve, confusion_matrix #importing the auc curve, roc curve and confusion matrix "
   ]
  },
  {
   "cell_type": "code",
   "execution_count": 163,
   "id": "62fb3523",
   "metadata": {},
   "outputs": [
    {
     "name": "stdout",
     "output_type": "stream",
     "text": [
      "64/64 [==============================] - 2s 17ms/step\n",
      "AUC: 0.8229732780805933\n"
     ]
    }
   ],
   "source": [
    "y_pred = model.predict(X_test_padded) # Predict the probabilities for the positive class (class 1) using the trained model and the testing data (X_test_padded)\n",
    "auc = roc_auc_score(y_test, y_pred)  # Calculate the ROC AUC score by comparing the predicted probabilities (y_pred) to the true labels (y_test).\n",
    "print(\"AUC:\", auc) #printing accuracy"
   ]
  },
  {
   "cell_type": "code",
   "execution_count": 164,
   "id": "558babc9",
   "metadata": {},
   "outputs": [],
   "source": [
    "import matplotlib.pyplot as plt #importing the plotting library"
   ]
  },
  {
   "cell_type": "code",
   "execution_count": 165,
   "id": "8813e3ca",
   "metadata": {},
   "outputs": [
    {
     "data": {
      "image/png": "[encoded data removed]",
      "text/plain": [
       "<Figure size 432x288 with 1 Axes>"
      ]
     },
     "metadata": {
      "needs_background": "light"
     },
     "output_type": "display_data"
    }
   ],
   "source": [
    "fpr, tpr, thresholds = roc_curve(y_test, y_pred) # Compute the ROC curve by comparing the predicted probabilities (y_pred) to the true labels (y_test).\n",
    "plt.figure() # Create a new figure to plot the ROC curve\n",
    "plt.plot(fpr, tpr, label='ROC curve (area = %0.2f)' % auc) # Plot the ROC curve using the false positive rate (fpr) on the x-axis and the true positive rate (tpr) on the y-axis.\n",
    "plt.plot([0, 1], [0, 1], 'k--') # Plot the diagonal line representing the ROC curve for a random classifier.\n",
    "plt.legend(loc=\"lower right\") # Add a legend to the plot, placing it in the lower right corner.\n",
    "plt.show() #displaying the graph"
   ]
  },
  {
   "cell_type": "code",
   "execution_count": 166,
   "id": "1cb9704f",
   "metadata": {},
   "outputs": [],
   "source": [
    "model.save('dnn_model.h5')"
   ]
  },
  {
   "cell_type": "code",
   "execution_count": 167,
   "id": "52bc07a1",
   "metadata": {},
   "outputs": [],
   "source": [
    "from keras.models import load_model"
   ]
  },
  {
   "cell_type": "code",
   "execution_count": 168,
   "id": "01c39795",
   "metadata": {},
   "outputs": [],
   "source": [
    "# # Create Word Clouds\n",
    "relevant_tweets = df.query(\"Category==1\")[\"Cleaned_Tweet\"].apply(str).str.cat(sep=' ')\n",
    "not_relevant_tweets = df.query(\"Category==0\")[\"Cleaned_Tweet\"].apply(str).str.cat(sep=' ')"
   ]
  },
  {
   "cell_type": "code",
   "execution_count": 169,
   "id": "89ef7311",
   "metadata": {},
   "outputs": [
    {
     "ename": "ValueError",
     "evalue": "Only supported for TrueType fonts",
     "output_type": "error",
     "traceback": [
      "\u001b[1;31m---------------------------------------------------------------------------\u001b[0m",
      "\u001b[1;31mValueError\u001b[0m                                Traceback (most recent call last)",
      "\u001b[1;32me:\\Loyalist College\\Term 3\\AISC2011(Data Science Project Requirements Gathering)\\TweetClassification\\Model_DNN.ipynb Cell 27\u001b[0m in \u001b[0;36m<cell line: 2>\u001b[1;34m()\u001b[0m\n\u001b[0;32m      <a href='vscode-notebook-cell:/e%3A/Loyalist%20College/Term%203/AISC2011%28Data%20Science%20Project%20Requirements%20Gathering%29/TweetClassification/Model_DNN.ipynb#X35sZmlsZQ%3D%3D?line=0'>1</a>\u001b[0m \u001b[39m# Preprocess and generate word frequencies for relevant tweets\u001b[39;00m\n\u001b[1;32m----> <a href='vscode-notebook-cell:/e%3A/Loyalist%20College/Term%203/AISC2011%28Data%20Science%20Project%20Requirements%20Gathering%29/TweetClassification/Model_DNN.ipynb#X35sZmlsZQ%3D%3D?line=1'>2</a>\u001b[0m relevant_wordcloud \u001b[39m=\u001b[39m WordCloud()\u001b[39m.\u001b[39;49mgenerate(relevant_tweets)\n",
      "File \u001b[1;32m~\\AppData\\Roaming\\Python\\Python39\\site-packages\\wordcloud\\wordcloud.py:639\u001b[0m, in \u001b[0;36mWordCloud.generate\u001b[1;34m(self, text)\u001b[0m\n\u001b[0;32m    624\u001b[0m \u001b[39mdef\u001b[39;00m \u001b[39mgenerate\u001b[39m(\u001b[39mself\u001b[39m, text):\n\u001b[0;32m    625\u001b[0m     \u001b[39m\"\"\"Generate wordcloud from text.\u001b[39;00m\n\u001b[0;32m    626\u001b[0m \n\u001b[0;32m    627\u001b[0m \u001b[39m    The input \"text\" is expected to be a natural text. If you pass a sorted\u001b[39;00m\n\u001b[1;32m   (...)\u001b[0m\n\u001b[0;32m    637\u001b[0m \u001b[39m    self\u001b[39;00m\n\u001b[0;32m    638\u001b[0m \u001b[39m    \"\"\"\u001b[39;00m\n\u001b[1;32m--> 639\u001b[0m     \u001b[39mreturn\u001b[39;00m \u001b[39mself\u001b[39;49m\u001b[39m.\u001b[39;49mgenerate_from_text(text)\n",
      "File \u001b[1;32m~\\AppData\\Roaming\\Python\\Python39\\site-packages\\wordcloud\\wordcloud.py:621\u001b[0m, in \u001b[0;36mWordCloud.generate_from_text\u001b[1;34m(self, text)\u001b[0m\n\u001b[0;32m    604\u001b[0m \u001b[39m\"\"\"Generate wordcloud from text.\u001b[39;00m\n\u001b[0;32m    605\u001b[0m \n\u001b[0;32m    606\u001b[0m \u001b[39mThe input \"text\" is expected to be a natural text. If you pass a sorted\u001b[39;00m\n\u001b[1;32m   (...)\u001b[0m\n\u001b[0;32m    618\u001b[0m \u001b[39mself\u001b[39;00m\n\u001b[0;32m    619\u001b[0m \u001b[39m\"\"\"\u001b[39;00m\n\u001b[0;32m    620\u001b[0m words \u001b[39m=\u001b[39m \u001b[39mself\u001b[39m\u001b[39m.\u001b[39mprocess_text(text)\n\u001b[1;32m--> 621\u001b[0m \u001b[39mself\u001b[39;49m\u001b[39m.\u001b[39;49mgenerate_from_frequencies(words)\n\u001b[0;32m    622\u001b[0m \u001b[39mreturn\u001b[39;00m \u001b[39mself\u001b[39m\n",
      "File \u001b[1;32m~\\AppData\\Roaming\\Python\\Python39\\site-packages\\wordcloud\\wordcloud.py:453\u001b[0m, in \u001b[0;36mWordCloud.generate_from_frequencies\u001b[1;34m(self, frequencies, max_font_size)\u001b[0m\n\u001b[0;32m    451\u001b[0m     font_size \u001b[39m=\u001b[39m \u001b[39mself\u001b[39m\u001b[39m.\u001b[39mheight\n\u001b[0;32m    452\u001b[0m \u001b[39melse\u001b[39;00m:\n\u001b[1;32m--> 453\u001b[0m     \u001b[39mself\u001b[39;49m\u001b[39m.\u001b[39;49mgenerate_from_frequencies(\u001b[39mdict\u001b[39;49m(frequencies[:\u001b[39m2\u001b[39;49m]),\n\u001b[0;32m    454\u001b[0m                                    max_font_size\u001b[39m=\u001b[39;49m\u001b[39mself\u001b[39;49m\u001b[39m.\u001b[39;49mheight)\n\u001b[0;32m    455\u001b[0m     \u001b[39m# find font sizes\u001b[39;00m\n\u001b[0;32m    456\u001b[0m     sizes \u001b[39m=\u001b[39m [x[\u001b[39m1\u001b[39m] \u001b[39mfor\u001b[39;00m x \u001b[39min\u001b[39;00m \u001b[39mself\u001b[39m\u001b[39m.\u001b[39mlayout_]\n",
      "File \u001b[1;32m~\\AppData\\Roaming\\Python\\Python39\\site-packages\\wordcloud\\wordcloud.py:508\u001b[0m, in \u001b[0;36mWordCloud.generate_from_frequencies\u001b[1;34m(self, frequencies, max_font_size)\u001b[0m\n\u001b[0;32m    505\u001b[0m transposed_font \u001b[39m=\u001b[39m ImageFont\u001b[39m.\u001b[39mTransposedFont(\n\u001b[0;32m    506\u001b[0m     font, orientation\u001b[39m=\u001b[39morientation)\n\u001b[0;32m    507\u001b[0m \u001b[39m# get size of resulting text\u001b[39;00m\n\u001b[1;32m--> 508\u001b[0m box_size \u001b[39m=\u001b[39m draw\u001b[39m.\u001b[39;49mtextbbox((\u001b[39m0\u001b[39;49m, \u001b[39m0\u001b[39;49m), word, font\u001b[39m=\u001b[39;49mtransposed_font, anchor\u001b[39m=\u001b[39;49m\u001b[39m\"\u001b[39;49m\u001b[39mlt\u001b[39;49m\u001b[39m\"\u001b[39;49m)\n\u001b[0;32m    509\u001b[0m \u001b[39m# find possible places using integral image:\u001b[39;00m\n\u001b[0;32m    510\u001b[0m result \u001b[39m=\u001b[39m occupancy\u001b[39m.\u001b[39msample_position(box_size[\u001b[39m3\u001b[39m] \u001b[39m+\u001b[39m \u001b[39mself\u001b[39m\u001b[39m.\u001b[39mmargin,\n\u001b[0;32m    511\u001b[0m                                    box_size[\u001b[39m2\u001b[39m] \u001b[39m+\u001b[39m \u001b[39mself\u001b[39m\u001b[39m.\u001b[39mmargin,\n\u001b[0;32m    512\u001b[0m                                    random_state)\n",
      "File \u001b[1;32mc:\\ProgramData\\Anaconda3\\lib\\site-packages\\PIL\\ImageDraw.py:671\u001b[0m, in \u001b[0;36mImageDraw.textbbox\u001b[1;34m(self, xy, text, font, anchor, spacing, align, direction, features, language, stroke_width, embedded_color)\u001b[0m\n\u001b[0;32m    669\u001b[0m     font \u001b[39m=\u001b[39m \u001b[39mself\u001b[39m\u001b[39m.\u001b[39mgetfont()\n\u001b[0;32m    670\u001b[0m \u001b[39mif\u001b[39;00m \u001b[39mnot\u001b[39;00m \u001b[39misinstance\u001b[39m(font, ImageFont\u001b[39m.\u001b[39mFreeTypeFont):\n\u001b[1;32m--> 671\u001b[0m     \u001b[39mraise\u001b[39;00m \u001b[39mValueError\u001b[39;00m(\u001b[39m\"\u001b[39m\u001b[39mOnly supported for TrueType fonts\u001b[39m\u001b[39m\"\u001b[39m)\n\u001b[0;32m    672\u001b[0m mode \u001b[39m=\u001b[39m \u001b[39m\"\u001b[39m\u001b[39mRGBA\u001b[39m\u001b[39m\"\u001b[39m \u001b[39mif\u001b[39;00m embedded_color \u001b[39melse\u001b[39;00m \u001b[39mself\u001b[39m\u001b[39m.\u001b[39mfontmode\n\u001b[0;32m    673\u001b[0m bbox \u001b[39m=\u001b[39m font\u001b[39m.\u001b[39mgetbbox(\n\u001b[0;32m    674\u001b[0m     text, mode, direction, features, language, stroke_width, anchor\n\u001b[0;32m    675\u001b[0m )\n",
      "\u001b[1;31mValueError\u001b[0m: Only supported for TrueType fonts"
     ]
    }
   ],
   "source": [
    "# Preprocess and generate word frequencies for relevant tweets\n",
    "relevant_wordcloud = WordCloud().generate(relevant_tweets)\n"
   ]
  },
  {
   "cell_type": "code",
   "execution_count": null,
   "id": "c7906beb",
   "metadata": {},
   "outputs": [],
   "source": [
    "\n",
    "# Preprocess and generate word frequencies for not relevant tweets\n",
    "not_relevant_wordcloud = WordCloud().generate(not_relevant_tweets)"
   ]
  },
  {
   "cell_type": "code",
   "execution_count": null,
   "id": "faabd951",
   "metadata": {},
   "outputs": [],
   "source": [
    "# Plot the word clouds\n",
    "plt.figure(figsize=(16, 6))\n",
    "plt.subplot(1, 2, 1)\n",
    "plt.imshow(relevant_wordcloud, interpolation=\"bilinear\")\n",
    "plt.title(\"Relevant Tweets\")\n",
    "plt.axis(\"off\")\n",
    "plt.subplot(1, 2, 2)\n",
    "plt.imshow(not_relevant_wordcloud, interpolation=\"bilinear\")\n",
    "plt.title(\"Not Relevant Tweets\")\n",
    "plt.axis(\"off\")\n",
    "plt.show()"
   ]
  },
  {
   "cell_type": "code",
   "execution_count": null,
   "id": "a5b05336",
   "metadata": {},
   "outputs": [],
   "source": [
    "import tkinter as tk\n",
    "from tkinter import messagebox\n",
    "import tensorflow as tf\n",
    "from tensorflow.keras.models import load_model\n",
    "from tensorflow.keras.preprocessing.text import Tokenizer\n",
    "from tensorflow.keras.preprocessing.sequence import pad_sequences\n",
    "window = tk.Tk()\n",
    "window.title(\"News or Tweet Classification\")\n",
    "window.geometry(\"600x400\")\n",
    "model = load_model(\"dnn_model.h5\")\n",
    "tokenizer = Tokenizer()\n",
    "tokenizer.fit_on_texts(df['Cleaned_Tweet'])\n",
    "def classify_text():\n",
    "    text = entry_text.get(\"1.0\", tk.END)\n",
    "    if text:\n",
    "        sequence = tokenizer.texts_to_sequences([text])\n",
    "        padded_sequence = pad_sequences(sequence, padding='post', maxlen=tokenizer.num_words)\n",
    "        prediction = model.predict(padded_sequence)\n",
    "        result = \"Relevant\" if prediction >= 0.5 else \"Not Relevant\"\n",
    "        output_text.delete(\"1.0\", tk.END)\n",
    "        output_text.insert(tk.END, result)\n",
    "    else:\n",
    "        messagebox.showwarning(\"Please enter some text\")\n",
    "entry_text = tk.Text(window, height=5, width=40)\n",
    "entry_text.pack(pady=10)\n",
    "\n",
    "button_classify = tk.Button(window, text=\"Classify\", command=classify_text)\n",
    "button_classify.pack(pady=10)\n",
    "\n",
    "output_text = tk.Text(window, height=1, width=40)\n",
    "output_text.pack()\n",
    "window.mainloop()"
   ]
  },
  {
   "cell_type": "code",
   "execution_count": null,
   "id": "c1597000",
   "metadata": {},
   "outputs": [],
   "source": []
  }
 ],
 "metadata": {
  "kernelspec": {
   "display_name": "Python 3.9.12 ('base')",
   "language": "python",
   "name": "python3"
  },
  "language_info": {
   "codemirror_mode": {
    "name": "ipython",
    "version": 3
   },
   "file_extension": ".py",
   "mimetype": "text/x-python",
   "name": "python",
   "nbconvert_exporter": "python",
   "pygments_lexer": "ipython3",
   "version": "3.9.12"
  },
  "vscode": {
   "interpreter": {
    "hash": "ad2bdc8ecc057115af97d19610ffacc2b4e99fae6737bb82f5d7fb13d2f2c186"
   }
  }
 },
 "nbformat": 4,
 "nbformat_minor": 5
}
