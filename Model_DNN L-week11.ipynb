{
 "cells": [
  {
   "cell_type": "code",
   "execution_count": 1,
   "id": "0bc78949",
   "metadata": {},
   "outputs": [
    {
     "name": "stdout",
     "output_type": "stream",
     "text": [
      "Collecting wordcloudNote: you may need to restart the kernel to use updated packages.\n",
      "\n",
      "  Downloading wordcloud-1.9.2-cp310-cp310-win_amd64.whl (152 kB)\n",
      "     -------------------------------------- 152.1/152.1 kB 3.0 MB/s eta 0:00:00\n",
      "Requirement already satisfied: pillow in c:\\users\\user\\anaconda3\\lib\\site-packages (from wordcloud) (9.4.0)\n",
      "Requirement already satisfied: numpy>=1.6.1 in c:\\users\\user\\anaconda3\\lib\\site-packages (from wordcloud) (1.23.5)\n",
      "Requirement already satisfied: matplotlib in c:\\users\\user\\anaconda3\\lib\\site-packages (from wordcloud) (3.7.0)\n",
      "Requirement already satisfied: cycler>=0.10 in c:\\users\\user\\anaconda3\\lib\\site-packages (from matplotlib->wordcloud) (0.11.0)\n",
      "Requirement already satisfied: pyparsing>=2.3.1 in c:\\users\\user\\anaconda3\\lib\\site-packages (from matplotlib->wordcloud) (3.0.9)\n",
      "Requirement already satisfied: contourpy>=1.0.1 in c:\\users\\user\\anaconda3\\lib\\site-packages (from matplotlib->wordcloud) (1.0.5)\n",
      "Requirement already satisfied: fonttools>=4.22.0 in c:\\users\\user\\anaconda3\\lib\\site-packages (from matplotlib->wordcloud) (4.25.0)\n",
      "Requirement already satisfied: kiwisolver>=1.0.1 in c:\\users\\user\\anaconda3\\lib\\site-packages (from matplotlib->wordcloud) (1.4.4)\n",
      "Requirement already satisfied: python-dateutil>=2.7 in c:\\users\\user\\anaconda3\\lib\\site-packages (from matplotlib->wordcloud) (2.8.2)\n",
      "Requirement already satisfied: packaging>=20.0 in c:\\users\\user\\anaconda3\\lib\\site-packages (from matplotlib->wordcloud) (22.0)\n",
      "Requirement already satisfied: six>=1.5 in c:\\users\\user\\anaconda3\\lib\\site-packages (from python-dateutil>=2.7->matplotlib->wordcloud) (1.16.0)\n",
      "Installing collected packages: wordcloud\n",
      "Successfully installed wordcloud-1.9.2\n"
     ]
    }
   ],
   "source": [
    "pip install wordcloud\n"
   ]
  },
  {
   "cell_type": "code",
   "execution_count": 34,
   "id": "9c7d0d68",
   "metadata": {},
   "outputs": [],
   "source": [
    "#importing necessary libraries\n",
    "import os\n",
    "import pandas as pd\n",
    "from sklearn.model_selection import train_test_split\n",
    "from tensorflow.keras.preprocessing.text import Tokenizer\n",
    "from tensorflow.keras.models import Sequential\n",
    "from tensorflow.keras.layers import Dense, Embedding, LSTM\n",
    "from tensorflow.keras.preprocessing.sequence import pad_sequences\n",
    "from wordcloud import WordCloud\n",
    "from tensorflow.keras.preprocessing.text import Tokenizer\n"
   ]
  },
  {
   "cell_type": "code",
   "execution_count": 35,
   "id": "ddb6c46c",
   "metadata": {},
   "outputs": [],
   "source": [
    "import pandas as pd\n",
    "import numpy as np\n",
    "import re"
   ]
  },
  {
   "cell_type": "code",
   "execution_count": 36,
   "id": "57b2d03a",
   "metadata": {},
   "outputs": [],
   "source": [
    "from sklearn.feature_extraction.text import TfidfVectorizer\n",
    "from sklearn.model_selection import train_test_split\n",
    "from sklearn.linear_model import LogisticRegression\n",
    "from sklearn.metrics import accuracy_score"
   ]
  },
  {
   "cell_type": "code",
   "execution_count": 37,
   "id": "766696fe",
   "metadata": {},
   "outputs": [
    {
     "name": "stderr",
     "output_type": "stream",
     "text": [
      "[nltk_data] Downloading collection 'popular'\n",
      "[nltk_data]    | \n",
      "[nltk_data]    | Downloading package cmudict to\n",
      "[nltk_data]    |     C:\\Users\\user\\AppData\\Roaming\\nltk_data...\n",
      "[nltk_data]    |   Package cmudict is already up-to-date!\n",
      "[nltk_data]    | Downloading package gazetteers to\n",
      "[nltk_data]    |     C:\\Users\\user\\AppData\\Roaming\\nltk_data...\n",
      "[nltk_data]    |   Package gazetteers is already up-to-date!\n",
      "[nltk_data]    | Downloading package genesis to\n",
      "[nltk_data]    |     C:\\Users\\user\\AppData\\Roaming\\nltk_data...\n",
      "[nltk_data]    |   Package genesis is already up-to-date!\n",
      "[nltk_data]    | Downloading package gutenberg to\n",
      "[nltk_data]    |     C:\\Users\\user\\AppData\\Roaming\\nltk_data...\n",
      "[nltk_data]    |   Package gutenberg is already up-to-date!\n",
      "[nltk_data]    | Downloading package inaugural to\n",
      "[nltk_data]    |     C:\\Users\\user\\AppData\\Roaming\\nltk_data...\n",
      "[nltk_data]    |   Package inaugural is already up-to-date!\n",
      "[nltk_data]    | Downloading package movie_reviews to\n",
      "[nltk_data]    |     C:\\Users\\user\\AppData\\Roaming\\nltk_data...\n",
      "[nltk_data]    |   Package movie_reviews is already up-to-date!\n",
      "[nltk_data]    | Downloading package names to\n",
      "[nltk_data]    |     C:\\Users\\user\\AppData\\Roaming\\nltk_data...\n",
      "[nltk_data]    |   Package names is already up-to-date!\n",
      "[nltk_data]    | Downloading package shakespeare to\n",
      "[nltk_data]    |     C:\\Users\\user\\AppData\\Roaming\\nltk_data...\n",
      "[nltk_data]    |   Package shakespeare is already up-to-date!\n",
      "[nltk_data]    | Downloading package stopwords to\n",
      "[nltk_data]    |     C:\\Users\\user\\AppData\\Roaming\\nltk_data...\n",
      "[nltk_data]    |   Package stopwords is already up-to-date!\n",
      "[nltk_data]    | Downloading package treebank to\n",
      "[nltk_data]    |     C:\\Users\\user\\AppData\\Roaming\\nltk_data...\n",
      "[nltk_data]    |   Package treebank is already up-to-date!\n",
      "[nltk_data]    | Downloading package twitter_samples to\n",
      "[nltk_data]    |     C:\\Users\\user\\AppData\\Roaming\\nltk_data...\n",
      "[nltk_data]    |   Package twitter_samples is already up-to-date!\n",
      "[nltk_data]    | Downloading package omw to\n",
      "[nltk_data]    |     C:\\Users\\user\\AppData\\Roaming\\nltk_data...\n",
      "[nltk_data]    |   Package omw is already up-to-date!\n",
      "[nltk_data]    | Downloading package omw-1.4 to\n",
      "[nltk_data]    |     C:\\Users\\user\\AppData\\Roaming\\nltk_data...\n",
      "[nltk_data]    |   Package omw-1.4 is already up-to-date!\n",
      "[nltk_data]    | Downloading package wordnet to\n",
      "[nltk_data]    |     C:\\Users\\user\\AppData\\Roaming\\nltk_data...\n",
      "[nltk_data]    |   Package wordnet is already up-to-date!\n",
      "[nltk_data]    | Downloading package wordnet2021 to\n",
      "[nltk_data]    |     C:\\Users\\user\\AppData\\Roaming\\nltk_data...\n",
      "[nltk_data]    |   Package wordnet2021 is already up-to-date!\n",
      "[nltk_data]    | Downloading package wordnet31 to\n",
      "[nltk_data]    |     C:\\Users\\user\\AppData\\Roaming\\nltk_data...\n",
      "[nltk_data]    |   Package wordnet31 is already up-to-date!\n",
      "[nltk_data]    | Downloading package wordnet_ic to\n",
      "[nltk_data]    |     C:\\Users\\user\\AppData\\Roaming\\nltk_data...\n",
      "[nltk_data]    |   Package wordnet_ic is already up-to-date!\n",
      "[nltk_data]    | Downloading package words to\n",
      "[nltk_data]    |     C:\\Users\\user\\AppData\\Roaming\\nltk_data...\n",
      "[nltk_data]    |   Package words is already up-to-date!\n",
      "[nltk_data]    | Downloading package maxent_ne_chunker to\n",
      "[nltk_data]    |     C:\\Users\\user\\AppData\\Roaming\\nltk_data...\n",
      "[nltk_data]    |   Package maxent_ne_chunker is already up-to-date!\n",
      "[nltk_data]    | Downloading package punkt to\n",
      "[nltk_data]    |     C:\\Users\\user\\AppData\\Roaming\\nltk_data...\n",
      "[nltk_data]    |   Package punkt is already up-to-date!\n",
      "[nltk_data]    | Downloading package snowball_data to\n",
      "[nltk_data]    |     C:\\Users\\user\\AppData\\Roaming\\nltk_data...\n",
      "[nltk_data]    |   Package snowball_data is already up-to-date!\n",
      "[nltk_data]    | Downloading package averaged_perceptron_tagger to\n",
      "[nltk_data]    |     C:\\Users\\user\\AppData\\Roaming\\nltk_data...\n",
      "[nltk_data]    |   Package averaged_perceptron_tagger is already up-\n",
      "[nltk_data]    |       to-date!\n",
      "[nltk_data]    | \n",
      "[nltk_data]  Done downloading collection popular\n"
     ]
    },
    {
     "data": {
      "text/plain": [
       "True"
      ]
     },
     "execution_count": 37,
     "metadata": {},
     "output_type": "execute_result"
    }
   ],
   "source": [
    "import nltk\n",
    "nltk.download(\"popular\")"
   ]
  },
  {
   "cell_type": "code",
   "execution_count": 38,
   "id": "2e1ecab1",
   "metadata": {},
   "outputs": [],
   "source": [
    "df=pd.read_excel('Group3-news-text-sanitized (1).xlsx') #reading the file"
   ]
  },
  {
   "cell_type": "code",
   "execution_count": 39,
   "id": "3adca2f9",
   "metadata": {},
   "outputs": [
    {
     "data": {
      "text/plain": [
       "10138"
      ]
     },
     "execution_count": 39,
     "metadata": {},
     "output_type": "execute_result"
    }
   ],
   "source": [
    "df = df.drop_duplicates('Tweet',keep='first') # dropping the duplicate tweets\n",
    "df['Tweet'].count()"
   ]
  },
  {
   "cell_type": "code",
   "execution_count": 40,
   "id": "185ff558",
   "metadata": {},
   "outputs": [
    {
     "data": {
      "text/html": [
       "<div>\n",
       "<style scoped>\n",
       "    .dataframe tbody tr th:only-of-type {\n",
       "        vertical-align: middle;\n",
       "    }\n",
       "\n",
       "    .dataframe tbody tr th {\n",
       "        vertical-align: top;\n",
       "    }\n",
       "\n",
       "    .dataframe thead th {\n",
       "        text-align: right;\n",
       "    }\n",
       "</style>\n",
       "<table border=\"1\" class=\"dataframe\">\n",
       "  <thead>\n",
       "    <tr style=\"text-align: right;\">\n",
       "      <th></th>\n",
       "      <th>Category</th>\n",
       "      <th>Confidence</th>\n",
       "      <th>Tweet</th>\n",
       "      <th>Cleaned_Tweet</th>\n",
       "    </tr>\n",
       "  </thead>\n",
       "  <tbody>\n",
       "    <tr>\n",
       "      <th>0</th>\n",
       "      <td>Not Relevant</td>\n",
       "      <td>1.0000</td>\n",
       "      <td>Hey! How are you?</td>\n",
       "      <td>hey how are you</td>\n",
       "    </tr>\n",
       "    <tr>\n",
       "      <th>1</th>\n",
       "      <td>Not Relevant</td>\n",
       "      <td>1.0000</td>\n",
       "      <td>What's up man?</td>\n",
       "      <td>whats up man</td>\n",
       "    </tr>\n",
       "    <tr>\n",
       "      <th>2</th>\n",
       "      <td>Not Relevant</td>\n",
       "      <td>1.0000</td>\n",
       "      <td>I love fruits</td>\n",
       "      <td>i love fruits</td>\n",
       "    </tr>\n",
       "    <tr>\n",
       "      <th>3</th>\n",
       "      <td>Not Relevant</td>\n",
       "      <td>1.0000</td>\n",
       "      <td>Summer is lovely</td>\n",
       "      <td>summer is lovely</td>\n",
       "    </tr>\n",
       "    <tr>\n",
       "      <th>4</th>\n",
       "      <td>Not Relevant</td>\n",
       "      <td>1.0000</td>\n",
       "      <td>My car is so fast</td>\n",
       "      <td>my car is so fast</td>\n",
       "    </tr>\n",
       "    <tr>\n",
       "      <th>...</th>\n",
       "      <td>...</td>\n",
       "      <td>...</td>\n",
       "      <td>...</td>\n",
       "      <td>...</td>\n",
       "    </tr>\n",
       "    <tr>\n",
       "      <th>10318</th>\n",
       "      <td>Relevant</td>\n",
       "      <td>0.3994</td>\n",
       "      <td>Make man pikin crash ??????</td>\n",
       "      <td>make man pikin crash</td>\n",
       "    </tr>\n",
       "    <tr>\n",
       "      <th>10319</th>\n",
       "      <td>Relevant</td>\n",
       "      <td>0.3994</td>\n",
       "      <td>Disregard my snap story there is an angry whit...</td>\n",
       "      <td>disregard my snap story there is an angry whit...</td>\n",
       "    </tr>\n",
       "    <tr>\n",
       "      <th>10320</th>\n",
       "      <td>Relevant</td>\n",
       "      <td>0.3982</td>\n",
       "      <td>#tornado #singapore Mac and #cheese #around th...</td>\n",
       "      <td>tornado singapore mac and cheese around the wo...</td>\n",
       "    </tr>\n",
       "    <tr>\n",
       "      <th>10321</th>\n",
       "      <td>Not Relevant</td>\n",
       "      <td>0.3367</td>\n",
       "      <td>Check out more data on Upper Wabash reservoirs...</td>\n",
       "      <td>check out more data on upper wabash reservoirs...</td>\n",
       "    </tr>\n",
       "    <tr>\n",
       "      <th>10322</th>\n",
       "      <td>Relevant</td>\n",
       "      <td>0.3342</td>\n",
       "      <td>Drowning' - Acrylic 08.05.15 https://t.co/X17f...</td>\n",
       "      <td>drowning  acrylic 080515</td>\n",
       "    </tr>\n",
       "  </tbody>\n",
       "</table>\n",
       "<p>10138 rows × 4 columns</p>\n",
       "</div>"
      ],
      "text/plain": [
       "           Category  Confidence  \\\n",
       "0      Not Relevant      1.0000   \n",
       "1      Not Relevant      1.0000   \n",
       "2      Not Relevant      1.0000   \n",
       "3      Not Relevant      1.0000   \n",
       "4      Not Relevant      1.0000   \n",
       "...             ...         ...   \n",
       "10318      Relevant      0.3994   \n",
       "10319      Relevant      0.3994   \n",
       "10320      Relevant      0.3982   \n",
       "10321  Not Relevant      0.3367   \n",
       "10322      Relevant      0.3342   \n",
       "\n",
       "                                                   Tweet  \\\n",
       "0                                      Hey! How are you?   \n",
       "1                                         What's up man?   \n",
       "2                                          I love fruits   \n",
       "3                                       Summer is lovely   \n",
       "4                                      My car is so fast   \n",
       "...                                                  ...   \n",
       "10318                        Make man pikin crash ??????   \n",
       "10319  Disregard my snap story there is an angry whit...   \n",
       "10320  #tornado #singapore Mac and #cheese #around th...   \n",
       "10321  Check out more data on Upper Wabash reservoirs...   \n",
       "10322  Drowning' - Acrylic 08.05.15 https://t.co/X17f...   \n",
       "\n",
       "                                           Cleaned_Tweet  \n",
       "0                                        hey how are you  \n",
       "1                                           whats up man  \n",
       "2                                          i love fruits  \n",
       "3                                       summer is lovely  \n",
       "4                                      my car is so fast  \n",
       "...                                                  ...  \n",
       "10318                              make man pikin crash   \n",
       "10319  disregard my snap story there is an angry whit...  \n",
       "10320  tornado singapore mac and cheese around the wo...  \n",
       "10321  check out more data on upper wabash reservoirs...  \n",
       "10322                          drowning  acrylic 080515   \n",
       "\n",
       "[10138 rows x 4 columns]"
      ]
     },
     "execution_count": 40,
     "metadata": {},
     "output_type": "execute_result"
    }
   ],
   "source": [
    "df[\"Cleaned_Tweet\"] = [re.sub(r\"(@[A-Za-z0–9_]+)|[^\\w\\s]|#|http\\S+\", \"\", v.lower()) for v in df[\"Tweet\"]] #cleaning then data\n",
    "df"
   ]
  },
  {
   "cell_type": "code",
   "execution_count": 41,
   "id": "be0c370e",
   "metadata": {},
   "outputs": [],
   "source": [
    "#Writing a funtion for data pre-processing.\n",
    "def data_preprocessing(data):\n",
    "    Cleaned_tweets = re.sub(r'https?://\\S+|www\\.\\S+|#\\w+|\\@\\w+|\\d+|[^\\w\\s]', '', data.lower())\n",
    "    words=word_tokenize(Cleaned_tweets) #So here we are tokenizing the text data.\n",
    "    stop_words = set(stopwords.words('english'))\n",
    "    words = [word for word in words if word not in stop_words]# Removing the stop wors form the data.\n",
    "    lemmatizer = WordNetLemmatizer()\n",
    "    words = [lemmatizer.lemmatize(word) for word in words]#lemmatizing the data.To put it simple lemmatization is replacing the word with its root form.\n",
    "    preprocessed_text = ' '.join(words)\n",
    "    return preprocessed_text"
   ]
  },
  {
   "cell_type": "code",
   "execution_count": 42,
   "id": "4e056743",
   "metadata": {},
   "outputs": [
    {
     "data": {
      "text/html": [
       "<div>\n",
       "<style scoped>\n",
       "    .dataframe tbody tr th:only-of-type {\n",
       "        vertical-align: middle;\n",
       "    }\n",
       "\n",
       "    .dataframe tbody tr th {\n",
       "        vertical-align: top;\n",
       "    }\n",
       "\n",
       "    .dataframe thead th {\n",
       "        text-align: right;\n",
       "    }\n",
       "</style>\n",
       "<table border=\"1\" class=\"dataframe\">\n",
       "  <thead>\n",
       "    <tr style=\"text-align: right;\">\n",
       "      <th></th>\n",
       "      <th>Category</th>\n",
       "      <th>Confidence</th>\n",
       "      <th>Cleaned_Tweet</th>\n",
       "    </tr>\n",
       "  </thead>\n",
       "  <tbody>\n",
       "    <tr>\n",
       "      <th>0</th>\n",
       "      <td>Not Relevant</td>\n",
       "      <td>1.0000</td>\n",
       "      <td>hey how are you</td>\n",
       "    </tr>\n",
       "    <tr>\n",
       "      <th>1</th>\n",
       "      <td>Not Relevant</td>\n",
       "      <td>1.0000</td>\n",
       "      <td>whats up man</td>\n",
       "    </tr>\n",
       "    <tr>\n",
       "      <th>2</th>\n",
       "      <td>Not Relevant</td>\n",
       "      <td>1.0000</td>\n",
       "      <td>i love fruits</td>\n",
       "    </tr>\n",
       "    <tr>\n",
       "      <th>3</th>\n",
       "      <td>Not Relevant</td>\n",
       "      <td>1.0000</td>\n",
       "      <td>summer is lovely</td>\n",
       "    </tr>\n",
       "    <tr>\n",
       "      <th>4</th>\n",
       "      <td>Not Relevant</td>\n",
       "      <td>1.0000</td>\n",
       "      <td>my car is so fast</td>\n",
       "    </tr>\n",
       "    <tr>\n",
       "      <th>...</th>\n",
       "      <td>...</td>\n",
       "      <td>...</td>\n",
       "      <td>...</td>\n",
       "    </tr>\n",
       "    <tr>\n",
       "      <th>10318</th>\n",
       "      <td>Relevant</td>\n",
       "      <td>0.3994</td>\n",
       "      <td>make man pikin crash</td>\n",
       "    </tr>\n",
       "    <tr>\n",
       "      <th>10319</th>\n",
       "      <td>Relevant</td>\n",
       "      <td>0.3994</td>\n",
       "      <td>disregard my snap story there is an angry whit...</td>\n",
       "    </tr>\n",
       "    <tr>\n",
       "      <th>10320</th>\n",
       "      <td>Relevant</td>\n",
       "      <td>0.3982</td>\n",
       "      <td>tornado singapore mac and cheese around the wo...</td>\n",
       "    </tr>\n",
       "    <tr>\n",
       "      <th>10321</th>\n",
       "      <td>Not Relevant</td>\n",
       "      <td>0.3367</td>\n",
       "      <td>check out more data on upper wabash reservoirs...</td>\n",
       "    </tr>\n",
       "    <tr>\n",
       "      <th>10322</th>\n",
       "      <td>Relevant</td>\n",
       "      <td>0.3342</td>\n",
       "      <td>drowning  acrylic 080515</td>\n",
       "    </tr>\n",
       "  </tbody>\n",
       "</table>\n",
       "<p>10138 rows × 3 columns</p>\n",
       "</div>"
      ],
      "text/plain": [
       "           Category  Confidence  \\\n",
       "0      Not Relevant      1.0000   \n",
       "1      Not Relevant      1.0000   \n",
       "2      Not Relevant      1.0000   \n",
       "3      Not Relevant      1.0000   \n",
       "4      Not Relevant      1.0000   \n",
       "...             ...         ...   \n",
       "10318      Relevant      0.3994   \n",
       "10319      Relevant      0.3994   \n",
       "10320      Relevant      0.3982   \n",
       "10321  Not Relevant      0.3367   \n",
       "10322      Relevant      0.3342   \n",
       "\n",
       "                                           Cleaned_Tweet  \n",
       "0                                        hey how are you  \n",
       "1                                           whats up man  \n",
       "2                                          i love fruits  \n",
       "3                                       summer is lovely  \n",
       "4                                      my car is so fast  \n",
       "...                                                  ...  \n",
       "10318                              make man pikin crash   \n",
       "10319  disregard my snap story there is an angry whit...  \n",
       "10320  tornado singapore mac and cheese around the wo...  \n",
       "10321  check out more data on upper wabash reservoirs...  \n",
       "10322                          drowning  acrylic 080515   \n",
       "\n",
       "[10138 rows x 3 columns]"
      ]
     },
     "execution_count": 42,
     "metadata": {},
     "output_type": "execute_result"
    }
   ],
   "source": [
    "df.drop('Tweet',axis=1) #dropping the actual column of tweets"
   ]
  },
  {
   "cell_type": "code",
   "execution_count": 43,
   "id": "892cde20",
   "metadata": {},
   "outputs": [],
   "source": [
    "vals_to_replace = {'Relevant':1, 'Not Relevant':0} # Define a dictionary to map the string values to their corresponding integer replacements\n",
    "# Use the 'map()' function to replace values in the 'Category' column of the DataFrame 'df'\n",
    "# The map() function applies the replacements specified in the 'vals_to_replace' dictionary to each element of the 'Category' column.\n",
    "df['Category'] = df['Category'].map(vals_to_replace)\n",
    "# After running this code, the 'Category' column in the DataFrame 'df' will have its string values replaced with corresponding integer values based on the 'vals_to_replace' dictionary.\n",
    "# For example, if the original 'Category' column had 'Relevant' and 'Not Relevant' as its values, they will be replaced with 1 and 0, respectively.\n",
    "# Other values in the 'Category' column will remain unchanged.\n"
   ]
  },
  {
   "cell_type": "code",
   "execution_count": 44,
   "id": "f43e0142",
   "metadata": {},
   "outputs": [],
   "source": [
    "df.dropna(inplace=True) "
   ]
  },
  {
   "cell_type": "code",
   "execution_count": 45,
   "id": "e908ae2b",
   "metadata": {},
   "outputs": [
    {
     "data": {
      "text/plain": [
       "array([0., 1.])"
      ]
     },
     "execution_count": 45,
     "metadata": {},
     "output_type": "execute_result"
    }
   ],
   "source": [
    "df['Category'].unique()"
   ]
  },
  {
   "cell_type": "code",
   "execution_count": 46,
   "id": "6ad84319",
   "metadata": {},
   "outputs": [],
   "source": [
    "# Split the DataFrame 'df' into training and testing sets for input features ('Cleaned_Tweet') and target labels ('Category')\n",
    "# test_size=0.2 specifies that 20% of the data will be used for testing, and 80% will be used for training\n",
    "# random_state=42 sets a specific seed value for the random number generator, ensuring reproducibility of the split\n",
    "# This means that every time this code is run with random_state=42, the same random split will be generated.\n",
    "X_train, X_test, y_train, y_test = train_test_split(df['Cleaned_Tweet'], df['Category'], test_size=0.2, random_state=42)\n",
    "# X_train: This contains 80% of the 'Cleaned_Tweet' data and will be used for training the model.\n",
    "# X_test: This contains the remaining 20% of the 'Cleaned_Tweet' data and will be used for evaluating the model's performance.\n",
    "# y_train: This contains the corresponding target labels (0 or 1) for the tweets in X_train and will be used during training.\n",
    "# y_test: This contains the corresponding target labels (0 or 1) for the tweets in X_test and will be used for evaluating the model's performance."
   ]
  },
  {
   "cell_type": "code",
   "execution_count": 47,
   "id": "334a7a11",
   "metadata": {},
   "outputs": [],
   "source": [
    "tokenizer = Tokenizer() #Initialize a new Tokenizer object\n",
    "tokenizer.fit_on_texts(X_train)  # Fit the Tokenizer on the training data (X_train)\n",
    "X_train_sequences = tokenizer.texts_to_sequences(X_train) # Convert the text data in X_train to sequences of integers\n",
    "X_test_sequences = tokenizer.texts_to_sequences(X_test) # Convert the text data in X_test to sequences of integers\n",
    "# X_train_sequences: This contains the training data (tweets) represented as sequences of integers, where each integer represents a unique word in the tokenizer's vocabulary.\n",
    "# X_test_sequences: This contains the testing data (tweets) represented as sequences of integers using the same tokenizer's vocabulary as X_train_sequences."
   ]
  },
  {
   "cell_type": "code",
   "execution_count": 48,
   "id": "52fceea7",
   "metadata": {},
   "outputs": [],
   "source": [
    "max_sequence_length = 100  # Define the maximum sequence length to which the sequences will be padded\n",
    "X_train_padded = pad_sequences(X_train_sequences, maxlen=max_sequence_length) # Pad the sequences in X_train_sequences to ensure they all have the same length (max_sequence_length)\n",
    "X_test_padded = pad_sequences(X_test_sequences, maxlen=max_sequence_length) # Pad the sequences in X_test_sequences to ensure they all have the same length (max_sequence_length)\n",
    "# Padding ensures that all input sequences have the same length, which is essential for efficient batch processing during model training and evaluation."
   ]
  },
  {
   "cell_type": "code",
   "execution_count": 49,
   "id": "6a9f4231",
   "metadata": {},
   "outputs": [],
   "source": [
    "from keras.layers import Dense, Activation, Flatten,Dropout #importing dense, activation, flatten and dropout layers from keras"
   ]
  },
  {
   "cell_type": "code",
   "execution_count": 50,
   "id": "2e016d42",
   "metadata": {},
   "outputs": [],
   "source": [
    "model = Sequential() # Create a sequential model\n",
    "model.add(Embedding(len(tokenizer.word_index) + 1, 32, input_length=max_sequence_length))  # Add the Embedding layer\n",
    "model.add(LSTM(64, return_sequences=True)) # Add the first LSTM layer with return_sequences=True\n",
    "model.add(LSTM(64)) # Add the second LSTM layer without returning sequences (outputting only the final LSTM state)\n",
    "model.add(Dense(1, activation='sigmoid')) # Add the final Dense layer with one neuron and a sigmoid activation function for binary classification"
   ]
  },
  {
   "cell_type": "code",
   "execution_count": 51,
   "id": "eaf37bff",
   "metadata": {},
   "outputs": [
    {
     "name": "stdout",
     "output_type": "stream",
     "text": [
      "Epoch 1/5\n",
      "254/254 [==============================] - 38s 124ms/step - loss: 0.5253 - accuracy: 0.7411 - val_loss: 0.4364 - val_accuracy: 0.8064\n",
      "Epoch 2/5\n",
      "254/254 [==============================] - 30s 119ms/step - loss: 0.3208 - accuracy: 0.8685 - val_loss: 0.4429 - val_accuracy: 0.8030\n",
      "Epoch 3/5\n",
      "254/254 [==============================] - 30s 118ms/step - loss: 0.2040 - accuracy: 0.9254 - val_loss: 0.5063 - val_accuracy: 0.8069\n",
      "Epoch 4/5\n",
      "254/254 [==============================] - 30s 118ms/step - loss: 0.1404 - accuracy: 0.9505 - val_loss: 0.5433 - val_accuracy: 0.7886\n",
      "Epoch 5/5\n",
      "254/254 [==============================] - 30s 119ms/step - loss: 0.1138 - accuracy: 0.9616 - val_loss: 0.6288 - val_accuracy: 0.7822\n"
     ]
    },
    {
     "data": {
      "text/plain": [
       "<keras.callbacks.History at 0x2134c62f670>"
      ]
     },
     "execution_count": 51,
     "metadata": {},
     "output_type": "execute_result"
    }
   ],
   "source": [
    "model.compile(loss='binary_crossentropy', optimizer='adam', metrics=['accuracy'])  # Compile the model with the specified loss function, optimizer, and evaluation metrics\n",
    "# binary_crossentropy is the loss function used for binary classification tasks\n",
    "model.fit(X_train_padded, y_train, validation_data=(X_test_padded, y_test), epochs=5, batch_size=32)  # Train the model on the training data (X_train_padded) and corresponding labels (y_train)\n",
    "# epochs=5 specifies the number of times the model will iterate over the entire training dataset during training.\n",
    "# batch_size=32 specifies the number of samples per gradient update. The model's weights are updated after processing each batch."
   ]
  },
  {
   "cell_type": "markdown",
   "id": "9ac044a6",
   "metadata": {},
   "source": [
    "ANALYSIS:\n",
    "According to our DNN model ,it seems that the model is performing quite well on the training data, achieving high accuracy and ROC-AUC scores. However, the test accuracy and ROC-AUC scores are slightly lower, which suggests that the model may be slightly overfitting. so we are working on OVERFITTING, considering Regularization, Hyperparameter Tuning and Reducing the complexity of model."
   ]
  },
  {
   "cell_type": "markdown",
   "id": "0c1a6850",
   "metadata": {},
   "source": [
    "The training accuracy increases with each epoch, reaching 0.9649 (or approximately 96.49%) at the end of the 5th epoch.\n",
    "\n",
    "The training loss decreases with each epoch, indicating that the model is learning from the training data.\n",
    "\n",
    "However, the validation accuracy (val_accuracy) and validation loss (val_loss) show fluctuations and do not improve consistently. The validation accuracy reaches 0.7842 (or approximately 78.42%) at the end of the 5th epoch.\n",
    "\n",
    "This discrepancy between training accuracy and validation accuracy, along with the fluctuation in validation accuracy, suggests that the model may be overfitting to some extent."
   ]
  },
  {
   "cell_type": "code",
   "execution_count": 55,
   "id": "a24263d9",
   "metadata": {},
   "outputs": [],
   "source": [
    "from sklearn.metrics import roc_auc_score, roc_curve, confusion_matrix #importing the auc curve, roc curve and confusion matrix "
   ]
  },
  {
   "cell_type": "code",
   "execution_count": 56,
   "id": "62fb3523",
   "metadata": {},
   "outputs": [
    {
     "name": "stdout",
     "output_type": "stream",
     "text": [
      "64/64 [==============================] - 2s 37ms/step\n",
      "AUC: 0.8396111195716645\n"
     ]
    }
   ],
   "source": [
    "y_pred = model.predict(X_test_padded) # Predict the probabilities for the positive class (class 1) using the trained model and the testing data (X_test_padded)\n",
    "auc = roc_auc_score(y_test, y_pred)  # Calculate the ROC AUC score by comparing the predicted probabilities (y_pred) to the true labels (y_test).\n",
    "print(\"AUC:\", auc) #printing accuracy"
   ]
  },
  {
   "cell_type": "code",
   "execution_count": 57,
   "id": "558babc9",
   "metadata": {},
   "outputs": [],
   "source": [
    "import matplotlib.pyplot as plt #importing the plotting library"
   ]
  },
  {
   "cell_type": "code",
   "execution_count": 58,
   "id": "8813e3ca",
   "metadata": {},
   "outputs": [
    {
     "data": {
      "image/png": "[encoded data removed]",
      "text/plain": [
       "<Figure size 640x480 with 1 Axes>"
      ]
     },
     "metadata": {},
     "output_type": "display_data"
    }
   ],
   "source": [
    "fpr, tpr, thresholds = roc_curve(y_test, y_pred) # Compute the ROC curve by comparing the predicted probabilities (y_pred) to the true labels (y_test).\n",
    "plt.figure() # Create a new figure to plot the ROC curve\n",
    "plt.plot(fpr, tpr, label='ROC curve (area = %0.2f)' % auc) # Plot the ROC curve using the false positive rate (fpr) on the x-axis and the true positive rate (tpr) on the y-axis.\n",
    "plt.plot([0, 1], [0, 1], 'k--') # Plot the diagonal line representing the ROC curve for a random classifier.\n",
    "plt.legend(loc=\"lower right\") # Add a legend to the plot, placing it in the lower right corner.\n",
    "plt.show() #displaying the graph"
   ]
  },
  {
   "cell_type": "markdown",
   "id": "63a768ee",
   "metadata": {},
   "source": [
    "the AUC value for the ROC curve is approximately 0.84. This indicates that the DNN model has a reasonably good ability to discriminate between relevant and not relevant tweets. An AUC value of 0.5 represents random guessing, and the model's AUC being significantly higher than 0.5 indicates that it performs better than random chance."
   ]
  },
  {
   "cell_type": "code",
   "execution_count": null,
   "id": "a137059a",
   "metadata": {},
   "outputs": [],
   "source": [
    "now, in week 12 I have worked on overfitting will add that in week12"
   ]
  }
 ],
 "metadata": {
  "kernelspec": {
   "display_name": "Python 3 (ipykernel)",
   "language": "python",
   "name": "python3"
  },
  "language_info": {
   "codemirror_mode": {
    "name": "ipython",
    "version": 3
   },
   "file_extension": ".py",
   "mimetype": "text/x-python",
   "name": "python",
   "nbconvert_exporter": "python",
   "pygments_lexer": "ipython3",
   "version": "3.10.9"
  },
  "vscode": {
   "interpreter": {
    "hash": "3ec892142f40547e816f7f6af0f5d45531d2b87ee349c23245b131b1f0d60808"
   }
  }
 },
 "nbformat": 4,
 "nbformat_minor": 5
}
