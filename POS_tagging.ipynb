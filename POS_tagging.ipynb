{
 "cells": [
  {
   "cell_type": "code",
   "execution_count": 3,
   "id": "b475c359",
   "metadata": {},
   "outputs": [],
   "source": [
    "import pandas as pd"
   ]
  },
  {
   "cell_type": "code",
   "execution_count": 1,
   "id": "4c547727",
   "metadata": {},
   "outputs": [],
   "source": [
    "import spacy\n",
    "nlp = spacy.load('en_core_web_sm')"
   ]
  },
  {
   "cell_type": "code",
   "execution_count": 4,
   "id": "03b4c11b",
   "metadata": {},
   "outputs": [],
   "source": [
    "df=pd.read_csv('cleaned_data.csv')"
   ]
  },
  {
   "cell_type": "code",
   "execution_count": 5,
   "id": "066ad1b0",
   "metadata": {},
   "outputs": [
    {
     "data": {
      "text/html": [
       "<div>\n",
       "<style scoped>\n",
       "    .dataframe tbody tr th:only-of-type {\n",
       "        vertical-align: middle;\n",
       "    }\n",
       "\n",
       "    .dataframe tbody tr th {\n",
       "        vertical-align: top;\n",
       "    }\n",
       "\n",
       "    .dataframe thead th {\n",
       "        text-align: right;\n",
       "    }\n",
       "</style>\n",
       "<table border=\"1\" class=\"dataframe\">\n",
       "  <thead>\n",
       "    <tr style=\"text-align: right;\">\n",
       "      <th></th>\n",
       "      <th>Unnamed: 0</th>\n",
       "      <th>Category</th>\n",
       "      <th>Confidence</th>\n",
       "      <th>Cleaned_Tweets</th>\n",
       "    </tr>\n",
       "  </thead>\n",
       "  <tbody>\n",
       "    <tr>\n",
       "      <th>0</th>\n",
       "      <td>631</td>\n",
       "      <td>0</td>\n",
       "      <td>1.0000</td>\n",
       "      <td>migrating from iphoto to photo is a catastrop...</td>\n",
       "    </tr>\n",
       "    <tr>\n",
       "      <th>1</th>\n",
       "      <td>9364</td>\n",
       "      <td>1</td>\n",
       "      <td>0.5988</td>\n",
       "      <td>i call it a little bit of your blizzard</td>\n",
       "    </tr>\n",
       "    <tr>\n",
       "      <th>2</th>\n",
       "      <td>1841</td>\n",
       "      <td>0</td>\n",
       "      <td>1.0000</td>\n",
       "      <td>13 reasons why we love women in the military  ...</td>\n",
       "    </tr>\n",
       "    <tr>\n",
       "      <th>3</th>\n",
       "      <td>3482</td>\n",
       "      <td>1</td>\n",
       "      <td>1.0000</td>\n",
       "      <td>3novices  renison mine sees seismic event  a s...</td>\n",
       "    </tr>\n",
       "    <tr>\n",
       "      <th>4</th>\n",
       "      <td>252</td>\n",
       "      <td>0</td>\n",
       "      <td>1.0000</td>\n",
       "      <td>star wars power of the jedi collection 1 battl...</td>\n",
       "    </tr>\n",
       "  </tbody>\n",
       "</table>\n",
       "</div>"
      ],
      "text/plain": [
       "   Unnamed: 0  Category  Confidence  \\\n",
       "0         631         0      1.0000   \n",
       "1        9364         1      0.5988   \n",
       "2        1841         0      1.0000   \n",
       "3        3482         1      1.0000   \n",
       "4         252         0      1.0000   \n",
       "\n",
       "                                      Cleaned_Tweets  \n",
       "0   migrating from iphoto to photo is a catastrop...  \n",
       "1            i call it a little bit of your blizzard  \n",
       "2  13 reasons why we love women in the military  ...  \n",
       "3  3novices  renison mine sees seismic event  a s...  \n",
       "4  star wars power of the jedi collection 1 battl...  "
      ]
     },
     "execution_count": 5,
     "metadata": {},
     "output_type": "execute_result"
    }
   ],
   "source": [
    "df.head()"
   ]
  },
  {
   "cell_type": "code",
   "execution_count": 7,
   "id": "1c40c358",
   "metadata": {},
   "outputs": [],
   "source": [
    "df=df.drop(['Unnamed: 0'],axis=1)"
   ]
  },
  {
   "cell_type": "code",
   "execution_count": 8,
   "id": "1e987f27",
   "metadata": {},
   "outputs": [
    {
     "data": {
      "text/html": [
       "<div>\n",
       "<style scoped>\n",
       "    .dataframe tbody tr th:only-of-type {\n",
       "        vertical-align: middle;\n",
       "    }\n",
       "\n",
       "    .dataframe tbody tr th {\n",
       "        vertical-align: top;\n",
       "    }\n",
       "\n",
       "    .dataframe thead th {\n",
       "        text-align: right;\n",
       "    }\n",
       "</style>\n",
       "<table border=\"1\" class=\"dataframe\">\n",
       "  <thead>\n",
       "    <tr style=\"text-align: right;\">\n",
       "      <th></th>\n",
       "      <th>Category</th>\n",
       "      <th>Confidence</th>\n",
       "      <th>Cleaned_Tweets</th>\n",
       "    </tr>\n",
       "  </thead>\n",
       "  <tbody>\n",
       "    <tr>\n",
       "      <th>0</th>\n",
       "      <td>0</td>\n",
       "      <td>1.0000</td>\n",
       "      <td>migrating from iphoto to photo is a catastrop...</td>\n",
       "    </tr>\n",
       "    <tr>\n",
       "      <th>1</th>\n",
       "      <td>1</td>\n",
       "      <td>0.5988</td>\n",
       "      <td>i call it a little bit of your blizzard</td>\n",
       "    </tr>\n",
       "    <tr>\n",
       "      <th>2</th>\n",
       "      <td>0</td>\n",
       "      <td>1.0000</td>\n",
       "      <td>13 reasons why we love women in the military  ...</td>\n",
       "    </tr>\n",
       "    <tr>\n",
       "      <th>3</th>\n",
       "      <td>1</td>\n",
       "      <td>1.0000</td>\n",
       "      <td>3novices  renison mine sees seismic event  a s...</td>\n",
       "    </tr>\n",
       "    <tr>\n",
       "      <th>4</th>\n",
       "      <td>0</td>\n",
       "      <td>1.0000</td>\n",
       "      <td>star wars power of the jedi collection 1 battl...</td>\n",
       "    </tr>\n",
       "  </tbody>\n",
       "</table>\n",
       "</div>"
      ],
      "text/plain": [
       "   Category  Confidence                                     Cleaned_Tweets\n",
       "0         0      1.0000   migrating from iphoto to photo is a catastrop...\n",
       "1         1      0.5988            i call it a little bit of your blizzard\n",
       "2         0      1.0000  13 reasons why we love women in the military  ...\n",
       "3         1      1.0000  3novices  renison mine sees seismic event  a s...\n",
       "4         0      1.0000  star wars power of the jedi collection 1 battl..."
      ]
     },
     "execution_count": 8,
     "metadata": {},
     "output_type": "execute_result"
    }
   ],
   "source": [
    "df.head()"
   ]
  },
  {
   "cell_type": "code",
   "execution_count": 22,
   "id": "afc2b94f",
   "metadata": {},
   "outputs": [],
   "source": [
    "doc=nlp(df['Cleaned_Tweets'][10])"
   ]
  },
  {
   "cell_type": "code",
   "execution_count": 23,
   "id": "0583a0bf",
   "metadata": {},
   "outputs": [
    {
     "data": {
      "text/plain": [
       "please pray for employees  residents and first responders  myhometown livesmatter "
      ]
     },
     "execution_count": 23,
     "metadata": {},
     "output_type": "execute_result"
    }
   ],
   "source": [
    "doc"
   ]
  },
  {
   "cell_type": "code",
   "execution_count": 26,
   "id": "27245d52",
   "metadata": {},
   "outputs": [
    {
     "name": "stdout",
     "output_type": "stream",
     "text": [
      "please     INTJ     UH     interjection\n",
      "pray       VERB     VB     verb, base form\n",
      "for        ADP      IN     conjunction, subordinating or preposition\n",
      "employees  NOUN     NNS    noun, plural\n",
      "           SPACE    _SP    whitespace\n",
      "residents  NOUN     NNS    noun, plural\n",
      "and        CCONJ    CC     conjunction, coordinating\n",
      "first      ADJ      JJ     adjective (English), other noun-modifier (Chinese)\n",
      "responders NOUN     NNS    noun, plural\n",
      "           SPACE    _SP    whitespace\n",
      "myhometown PROPN    NNP    noun, proper singular\n",
      "livesmatter NOUN     NN     noun, singular or mass\n"
     ]
    }
   ],
   "source": [
    "for token in doc:\n",
    "    print(f'{token.text:{10}} {token.pos_:{8}} {token.tag_:{6}} {spacy.explain(token.tag_)}')"
   ]
  },
  {
   "cell_type": "code",
   "execution_count": 27,
   "id": "241a271f",
   "metadata": {},
   "outputs": [],
   "source": [
    "def show_ents(doc):\n",
    "    if doc.ents:\n",
    "        for i in doc.ents:\n",
    "            print(i.text+' - '+i.label_+' - '+str(spacy.explain(i.label_)))\n",
    "    else:\n",
    "        print('No NAmed entities.')"
   ]
  },
  {
   "cell_type": "code",
   "execution_count": 28,
   "id": "d2b2e322",
   "metadata": {},
   "outputs": [
    {
     "name": "stdout",
     "output_type": "stream",
     "text": [
      "first - ORDINAL - \"first\", \"second\", etc.\n"
     ]
    }
   ],
   "source": [
    "show_ents(doc)"
   ]
  },
  {
   "cell_type": "code",
   "execution_count": null,
   "id": "f2e4f499",
   "metadata": {},
   "outputs": [],
   "source": []
  }
 ],
 "metadata": {
  "kernelspec": {
   "display_name": "Python 3 (ipykernel)",
   "language": "python",
   "name": "python3"
  },
  "language_info": {
   "codemirror_mode": {
    "name": "ipython",
    "version": 3
   },
   "file_extension": ".py",
   "mimetype": "text/x-python",
   "name": "python",
   "nbconvert_exporter": "python",
   "pygments_lexer": "ipython3",
   "version": "3.10.9"
  }
 },
 "nbformat": 4,
 "nbformat_minor": 5
}
